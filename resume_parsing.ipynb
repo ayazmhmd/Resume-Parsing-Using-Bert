{
  "cells": [
    {
      "cell_type": "markdown",
      "metadata": {},
      "source": [
        "### Connection with google drive and instaling the necessary Libaries"
      ]
    },
    {
      "cell_type": "code",
      "execution_count": 329,
      "metadata": {
        "colab": {
          "base_uri": "https://localhost:8080/"
        },
        "id": "z2SlBDTMrevJ",
        "outputId": "c04b48f3-d9ab-4dc0-bad4-5866924d7b91"
      },
      "outputs": [
        {
          "name": "stdout",
          "output_type": "stream",
          "text": [
            "Drive already mounted at /content/drive; to attempt to forcibly remount, call drive.mount(\"/content/drive\", force_remount=True).\n"
          ]
        }
      ],
      "source": [
        "from google.colab import drive\n",
        "drive.mount(\"/content/drive\")"
      ]
    },
    {
      "cell_type": "code",
      "execution_count": 330,
      "metadata": {
        "id": "7XlOJSCXrjg4"
      },
      "outputs": [],
      "source": [
        "import os\n",
        "os.chdir('/content/drive/MyDrive/resume_parser')"
      ]
    },
    {
      "cell_type": "code",
      "execution_count": null,
      "metadata": {},
      "outputs": [],
      "source": [
        "!pip install transformers"
      ]
    },
    {
      "cell_type": "markdown",
      "metadata": {},
      "source": [
        "### Custom hardcode some sample data format for resume parsing"
      ]
    },
    {
      "cell_type": "code",
      "execution_count": 335,
      "metadata": {
        "id": "wg4vhiLFtlAW"
      },
      "outputs": [],
      "source": [
        "import torch\n",
        "from transformers import BertTokenizer,BertTokenizerFast, BertForTokenClassification\n",
        "from torch.utils.data import Dataset, DataLoader, RandomSampler\n",
        "from torch.optim import Adam\n",
        "\n",
        "# Sample annotated data (replace this with your actual annotated data)\n",
        "resume_data = [\n",
        "    {\n",
        "        \"content\": \"Abhishek Jha\\nApplication Development Associate - Accenture\\n\\nBengaluru, Karnataka - Email me on Indeed: indeed.com/r/Abhishek-Jha/10e7a8cb732bc43a\\n\\n• To work for an organization which provides me the opportunity to improve my skills...\",\n",
        "        \"annotation\": [\n",
        "            {\n",
        "                \"label\": [\"Name\"],\n",
        "                \"points\": [{\"start\": 0, \"end\": 12, \"text\": \"Abhishek Jha\"}]\n",
        "            },\n",
        "            {\n",
        "                \"label\": [\"Email Address\"],\n",
        "                \"points\": [{\"start\": 193, \"end\": 223, \"text\": \"indeed.com/r/Abhishek-Jha/10e7a8cb732bc43a\"}]\n",
        "            },\n",
        "            {\n",
        "                \"label\": [\"Skills\"],\n",
        "                \"points\": [{\"start\": 243, \"end\": 266, \"text\": \"...\"}]\n",
        "            },\n",
        "            # Add more annotations here...\n",
        "        ]\n",
        "    },\n",
        "    {\n",
        "        \"content\": \"Jane Smith\\nData Scientist - XYZ Corp\\n\\nNew York, USA - Email me on Indeed: indeed.com/r/Jane-Smith/2345xyz\\n\\n• Highly skilled data scientist with a passion for analyzing complex datasets and providing valuable insights...\",\n",
        "        \"annotation\": [\n",
        "            {\n",
        "                \"label\": [\"Name\"],\n",
        "                \"points\": [{\"start\": 0, \"end\": 10, \"text\": \"Jane Smith\"}]\n",
        "            },\n",
        "            {\n",
        "                \"label\": [\"Email Address\"],\n",
        "                \"points\": [{\"start\": 137, \"end\": 172, \"text\": \"indeed.com/r/Jane-Smith/2345xyz\"}]\n",
        "            },\n",
        "            {\n",
        "                \"label\": [\"Skills\"],\n",
        "                \"points\": [{\"start\": 192, \"end\": 221, \"text\": \"...\"}]\n",
        "            },\n",
        "            # Add more annotations here...\n",
        "        ]\n",
        "    },\n",
        "    {\n",
        "        \"content\": \"Michael Johnson\\nMarketing Manager - ABC Marketing\\n\\nLos Angeles, California - Email me on Indeed: indeed.com/r/Michael-Johnson/5678abc\\n\\n• Experienced marketing manager with a proven track record of executing successful marketing campaigns...\",\n",
        "        \"annotation\": [\n",
        "            {\n",
        "                \"label\": [\"Name\"],\n",
        "                \"points\": [{\"start\": 0, \"end\": 15, \"text\": \"Michael Johnson\"}]\n",
        "            },\n",
        "            {\n",
        "                \"label\": [\"Email Address\"],\n",
        "                \"points\": [{\"start\": 114, \"end\": 159, \"text\": \"indeed.com/r/Michael-Johnson/5678abc\"}]\n",
        "            },\n",
        "            {\n",
        "                \"label\": [\"Skills\"],\n",
        "                \"points\": [{\"start\": 181, \"end\": 216, \"text\": \"...\"}]\n",
        "            },\n",
        "            # Add more annotations here...\n",
        "        ]\n",
        "    },\n",
        "    {\n",
        "        \"content\": \"Emily Wang\\nSoftware Engineer - XYZ Tech\\n\\nSan Francisco, California - Email me on Indeed: indeed.com/r/Emily-Wang/8765xyz\\n\\n• Skilled software engineer with expertise in full-stack web development and building scalable applications...\",\n",
        "        \"annotation\": [\n",
        "            {\n",
        "                \"label\": [\"Name\"],\n",
        "                \"points\": [{\"start\": 0, \"end\": 11, \"text\": \"Emily Wang\"}]\n",
        "            },\n",
        "            {\n",
        "                \"label\": [\"Email Address\"],\n",
        "                \"points\": [{\"start\": 122, \"end\": 159, \"text\": \"indeed.com/r/Emily-Wang/8765xyz\"}]\n",
        "            },\n",
        "            {\n",
        "                \"label\": [\"Skills\"],\n",
        "                \"points\": [{\"start\": 177, \"end\": 221, \"text\": \"...\"}]\n",
        "            },\n",
        "            # Add more annotations here...\n",
        "        ]\n",
        "    },\n",
        "    # Add more resumes here...\n",
        "]\n",
        "\n",
        "\n",
        "\n",
        "\n"
      ]
    },
    {
      "cell_type": "code",
      "execution_count": 336,
      "metadata": {
        "colab": {
          "base_uri": "https://localhost:8080/"
        },
        "id": "ynd2hNRBqQVH",
        "outputId": "eac90f87-594b-410a-94f5-86d3b690b8b4"
      },
      "outputs": [
        {
          "name": "stdout",
          "output_type": "stream",
          "text": [
            "[{'content': 'Abhishek Jha\\nApplication Development Associate - Accenture\\n\\nBengaluru, Karnataka - Email me on Indeed: indeed.com/r/Abhishek-Jha/10e7a8cb732bc43a\\n\\n• To work for an organization which provides me the opportunity to improve my skills...', 'annotation': [{'label': ['Name'], 'points': [{'start': 0, 'end': 12, 'text': 'Abhishek Jha'}]}, {'label': ['Email Address'], 'points': [{'start': 193, 'end': 223, 'text': 'indeed.com/r/Abhishek-Jha/10e7a8cb732bc43a'}]}, {'label': ['Skills'], 'points': [{'start': 243, 'end': 266, 'text': '...'}]}]}, {'content': 'Jane Smith\\nData Scientist - XYZ Corp\\n\\nNew York, USA - Email me on Indeed: indeed.com/r/Jane-Smith/2345xyz\\n\\n• Highly skilled data scientist with a passion for analyzing complex datasets and providing valuable insights...', 'annotation': [{'label': ['Name'], 'points': [{'start': 0, 'end': 10, 'text': 'Jane Smith'}]}, {'label': ['Email Address'], 'points': [{'start': 137, 'end': 172, 'text': 'indeed.com/r/Jane-Smith/2345xyz'}]}, {'label': ['Skills'], 'points': [{'start': 192, 'end': 221, 'text': '...'}]}]}, {'content': 'Michael Johnson\\nMarketing Manager - ABC Marketing\\n\\nLos Angeles, California - Email me on Indeed: indeed.com/r/Michael-Johnson/5678abc\\n\\n• Experienced marketing manager with a proven track record of executing successful marketing campaigns...', 'annotation': [{'label': ['Name'], 'points': [{'start': 0, 'end': 15, 'text': 'Michael Johnson'}]}, {'label': ['Email Address'], 'points': [{'start': 114, 'end': 159, 'text': 'indeed.com/r/Michael-Johnson/5678abc'}]}, {'label': ['Skills'], 'points': [{'start': 181, 'end': 216, 'text': '...'}]}]}, {'content': 'Emily Wang\\nSoftware Engineer - XYZ Tech\\n\\nSan Francisco, California - Email me on Indeed: indeed.com/r/Emily-Wang/8765xyz\\n\\n• Skilled software engineer with expertise in full-stack web development and building scalable applications...', 'annotation': [{'label': ['Name'], 'points': [{'start': 0, 'end': 11, 'text': 'Emily Wang'}]}, {'label': ['Email Address'], 'points': [{'start': 122, 'end': 159, 'text': 'indeed.com/r/Emily-Wang/8765xyz'}]}, {'label': ['Skills'], 'points': [{'start': 177, 'end': 221, 'text': '...'}]}]}]\n"
          ]
        }
      ],
      "source": [
        "print(resume_data)"
      ]
    },
    {
      "cell_type": "markdown",
      "metadata": {},
      "source": [
        "### Reading the JSON format of your annotated Data"
      ]
    },
    {
      "cell_type": "code",
      "execution_count": 337,
      "metadata": {
        "colab": {
          "base_uri": "https://localhost:8080/"
        },
        "id": "jwzfUHht6HKA",
        "outputId": "b3788583-c865-435d-f8e7-8d572df25734"
      },
      "outputs": [
        {
          "name": "stdout",
          "output_type": "stream",
          "text": [
            "6\n",
            "[{'content': 'Ayesha Khalique Hiring Manager Trey Research 89 Pacific Ave San Francisco, CA 65432 Dear Ayesha Khalique, Want to put your own image in the circle? It is easy! Select the image and do a right mouse click. Select Fill from the shortcut menu. Choose Picture from the list. Navigate your computer to get the appropriate picture. Click okay to insert your selected image. Once your image has been inserted, select it again. Go to the Picture Tools Format menu. Click on the down arrow below Crop and select Fill from the list. This will auto adjust your image to crop to the image. You can click and drag your image to place it appropriately. Are you looking for a job title with: Number years of hands-on experience in the area of expertise? Knowledge of the latest technology in the industry or field? Excellent written and oral communication skills? A passion to learn and to increase his skills? If so, then you need look no further. You will see from my enclosed resume that I meet all of these qualifications and more. I would very much like to discuss opportunities with Company Name. To schedule an interview, please call me at phone. The best time to reach me is between the earliest time and latest time, but you can leave a voice message at any time, and I will return your call. Thank you for taking the time to review my resume. I look forward to talking with you. Sincerely, Dian Nugraha Enclosure DIAN NUGRAHA 210 Stars Ave Berkeley, CA 78910 808.555.0118 dian@example.com www.reallygreatsite.com', 'annotation': [{'label': 'Name', 'points': [{'start': 0, 'end': 14, 'text': 'Ayesha Khalique'}]}, {'label': 'Job Title', 'points': [{'start': 15, 'end': 30, 'text': 'Hiring Manager'}]}, {'label': 'Company Name', 'points': [{'start': 31, 'end': 43, 'text': 'Trey Research'}]}, {'label': 'Address', 'points': [{'start': 44, 'end': 82, 'text': '89 Pacific Ave San Francisco, CA 65432'}]}, {'label': 'Greeting', 'points': [{'start': 94, 'end': 124, 'text': 'Dear Ayesha Khalique,'}]}, {'label': 'Email Address', 'points': [{'start': 639, 'end': 654, 'text': 'dian@example.com'}]}, {'label': 'Phone No', 'points': [{'start': 655, 'end': 667, 'text': '808.555.0118'}]}, {'label': 'Education', 'points': [{'start': 695, 'end': 716, 'text': 'BA in Communications Bellows College'}]}, {'label': 'Education', 'points': [{'start': 717, 'end': 742, 'text': 'AA in Communications East Beringer Community College'}]}, {'label': 'Experience', 'points': [{'start': 174, 'end': 197, 'text': 'Social Media Marketing Specialist 20XX -20YY'}]}, {'label': 'Experience', 'points': [{'start': 258, 'end': 282, 'text': 'Digital Marketing Manager 20XX -20YY'}]}, {'label': 'Experience', 'points': [{'start': 329, 'end': 352, 'text': 'Content Marketing Specialist 20XX -20YY'}]}, {'label': 'Skills', 'points': [{'start': 496, 'end': 514, 'text': 'Platform expertise'}]}, {'label': 'Skills', 'points': [{'start': 515, 'end': 530, 'text': 'Content creation'}]}, {'label': 'Skills', 'points': [{'start': 531, 'end': 543, 'text': 'Analytics'}]}, {'label': 'Skills', 'points': [{'start': 544, 'end': 557, 'text': 'Communication'}]}, {'label': 'Skills', 'points': [{'start': 558, 'end': 572, 'text': 'Creativity'}]}, {'label': 'Skills', 'points': [{'start': 573, 'end': 589, 'text': 'Strategic thinking'}]}], 'extras': None}, {'content': 'RABIA EHSAN UL HAQ App Developer Automated Planet NEP-NIC, Quetta March 2022 - Nov 2022 working as an app developer and Leading a start-up at NEP-NIC University of Balochistan Quetta Graphic designer MZ creations, Quetta 2022 Working as a graphic designer of home automation product related company at Mz creations Islamabad (Remotely) EXPERIENCE University Of Balochistan, Quetta 3.69 CGPA out of 4.00 (Gold Medalist) BS Information Technology 2017-2021 Govt Girls Post Graduate College Quetta Cantt, Quetta First Division Intermediate 2015-2017 EDUCATION Skill group Adobe Photoshop Figma Adobe Illustrator Adobe XD Flutter OOPs GetX, Provider Firebase Java Git, Github REST APIs MySQL SKILLS Learning Playing Coding Designing INTERESTS Imagine Cup Winner of FYP project Microsoft Imagine Cup Winner 2022 SDG challenge certification SDG challenge cup certification 2021 Entrepreneur USAID Entrepreneurship certified Certification Android application development from Pakistan freelancing Training Program (PFTP) Certification Graphic Designing certification from DigiSkills Certification Creative Designing certification from DigiBizz Gold Medalist Achieve Gold Medal in BS(Information Technology) ACHIEVEMENTS English Urdu LANGUAGES Address Sector 1 Street No 4 house no 14 Bahira Cooperate housing society Karachi. Contact No 03077898899 Email Address rabiaehsan567@gmail.com CONTACT INFORMATION', 'annotation': [{'label': 'Name', 'points': [{'start': 0, 'end': 17, 'text': 'RABIA EHSAN UL HAQ'}]}, {'label': 'Job Title', 'points': [{'start': 18, 'end': 30, 'text': 'App Developer'}]}, {'label': 'Company Name', 'points': [{'start': 31, 'end': 47, 'text': 'Automated Planet NEP-NIC'}]}, {'label': 'Address', 'points': [{'start': 541, 'end': 591, 'text': 'Sector 1 Street No 4 house no 14 Bahira Cooperate housing society Karachi.'}]}, {'label': 'Phone No', 'points': [{'start': 592, 'end': 604, 'text': '03077898899'}]}, {'label': 'Email Address', 'points': [{'start': 605, 'end': 631, 'text': 'rabiaehsan567@gmail.com'}]}, {'label': 'Education', 'points': [{'start': 202, 'end': 255, 'text': 'University Of Balochistan, Quetta\\n3.69 CGPA out of 4.00 (Gold Medalist)\\nBS Information Technology 2017-2021'}]}, {'label': 'Education', 'points': [{'start': 256, 'end': 317, 'text': 'Govt Girls Post Graduate College Quetta Cantt, Quetta\\nFirst Division Intermediate 2015-2017'}]}, {'label': 'Experience', 'points': [{'start': 48, 'end': 107, 'text': 'March 2022 - Nov 2022 working as an app developer and Leading a start-up at NEP-NIC University of Balochistan Quetta'}]}, {'label': 'Experience', 'points': [{'start': 144, 'end': 220, 'text': '2022 Working as a graphic designer of home automation product related company at Mz creations Islamabad (Remotely)'}]}, {'label': 'Skills', 'points': [{'start': 323, 'end': 337, 'text': 'Adobe Photoshop'}]}, {'label': 'Skills', 'points': [{'start': 338, 'end': 349, 'text': 'Figma'}]}, {'label': 'Skills', 'points': [{'start': 350, 'end': 368, 'text': 'Adobe Illustrator'}]}, {'label': 'Skills', 'points': [{'start': 369, 'end': 378, 'text': 'Adobe XD'}]}, {'label': 'Skills', 'points': [{'start': 379, 'end': 386, 'text': 'Flutter'}]}, {'label': 'Skills', 'points': [{'start': 387, 'end': 391, 'text': 'OOPs'}]}, {'label': 'Skills', 'points': [{'start': 392, 'end': 398, 'text': 'GetX'}]}, {'label': 'Skills', 'points': [{'start': 399, 'end': 407, 'text': 'Provider'}]}, {'label': 'Skills', 'points': [{'start': 408, 'end': 415, 'text': 'Firebase'}]}, {'label': 'Skills', 'points': [{'start': 416, 'end': 420, 'text': 'Java'}]}, {'label': 'Skills', 'points': [{'start': 421, 'end': 426, 'text': 'Git'}]}, {'label': 'Skills', 'points': [{'start': 427, 'end': 434, 'text': 'Github'}]}, {'label': 'Skills', 'points': [{'start': 435, 'end': 443, 'text': 'REST APIs'}]}, {'label': 'Skills', 'points': [{'start': 444, 'end': 449, 'text': 'MySQL'}]}, {'label': 'Skills', 'points': [{'start': 496, 'end': 514, 'text': 'Platform expertise'}]}, {'label': 'Skills', 'points': [{'start': 515, 'end': 530, 'text': 'Content creation'}]}], 'extras': None}, {'content': \"M I R A K A R L S S O N SOCIAL MEDIA MARKETING SPECIALIST CONTACT 816-555-0146 miraexample.com www.example.com PROFILE Social Media Marketing Specialist, utilizing my 5 years of experience in creating and executing successful social media campaigns, developing engaging content, analyzing and reporting on campaign performance, and staying up to date with the latest trends and best practices in social media marketing. My goal is to increase brand awareness, engagement, and conversion rates while delivering exceptional results and exceeding goals for the company. SKILLS Platform expertise Content creation Analytics Communication Creativity Strategic thinking EXPERIENCE Social Media Marketing Specialist 20XX -20YY Developed and executed successful social media campaigns across multiple platforms to increase brand awareness and drive traffic to the company's website. Managed and grew the company's social media accounts by creating engaging content, monitoring analytics, and implementing social media best practices. Collaborated with cross -functional teams to develop and execute integrated marketing campaigns that leveraged social media to meet business objectives. Digital Marketing Manager 20XX -20YY Led the development and implementation of the company's digital marketing strategy, including social media marketing, email marketing, and paid advertising. Analyzed and reported on the p erformance of digital marketing campaigns, using data -driven insights to optimize and improve campaign effectiveness. Content Marketing Specialist 20XX -20YY Developed and executed content marketing strategies that leveraged social media to drive tr affic, engagement, and conversions. Produced high -quality, engaging content for social media, email marketing, and the company's blog. EDUCATION Bellows College 20XX -20YY BA in Communications East Beringer Community College 20XX -20YY AA in Communications\", 'annotation': [{'label': 'Name', 'points': [{'start': 0, 'end': 19, 'text': 'M I R A K A R L S S O N'}]}, {'label': 'Job Title', 'points': [{'start': 20, 'end': 46, 'text': 'SOCIAL MEDIA MARKETING SPECIALIST'}]}, {'label': 'Phone No', 'points': [{'start': 54, 'end': 66, 'text': '816-555-0146'}]}, {'label': 'Email', 'points': [{'start': 67, 'end': 81, 'text': 'mira@example.com'}]}, {'label': 'Website', 'points': [{'start': 82, 'end': 98, 'text': 'www.example.com'}]}, {'label': 'Profile', 'points': [{'start': 100, 'end': 210, 'text': 'Social Media Marketing Specialist, utilizing my 5 years of experience in creating and executing successful social media campaigns, developing engaging content, analyzing and reporting on campaign performance, and staying up to date with the latest trends and best practices in social media marketing. My goal is to increase brand awareness, engagement, and conversion rates while delivering exceptional results and exceeding goals for the company.'}]}, {'label': 'Skills', 'points': [{'start': 220, 'end': 239, 'text': 'Platform expertise'}]}, {'label': 'Skills', 'points': [{'start': 240, 'end': 255, 'text': 'Content creation'}]}, {'label': 'Skills', 'points': [{'start': 256, 'end': 266, 'text': 'Analytics'}]}, {'label': 'Skills', 'points': [{'start': 267, 'end': 279, 'text': 'Communication'}]}, {'label': 'Skills', 'points': [{'start': 280, 'end': 291, 'text': 'Creativity'}]}, {'label': 'Skills', 'points': [{'start': 292, 'end': 308, 'text': 'Strategic thinking'}]}, {'label': 'Experience', 'points': [{'start': 318, 'end': 374, 'text': 'Social Media Marketing Specialist 20XX -20YY'}]}, {'label': 'Experience', 'points': [{'start': 384, 'end': 478, 'text': 'Digital Marketing Manager 20XX -20YY'}]}, {'label': 'Experience', 'points': [{'start': 488, 'end': 543, 'text': 'Content Marketing Specialist 20XX -20YY'}]}, {'label': 'Education', 'points': [{'start': 555, 'end': 585, 'text': 'Bellows College 20XX -20YY BA in Communications'}]}, {'label': 'Education', 'points': [{'start': 595, 'end': 635, 'text': 'East Beringer Community College 20XX -20YY AA in Communications'}]}], 'extras': None}, {'content': '4567 Main Street City, State 98052 (718) 555 0100 taylorexample.com Taylor Phillips State your career goals and show how they align with the job description youre targeting. Be brief and keep it from sounding generic. Be yourself. Design Director Senior Designer Designer First Up Consultants 20XX - Current Nod Publishing 20XX  20XX Adatum Corporation 20XX  20XX Summarize your key responsibilities and accomplishments. Where appropriate, use the language and words you find in the specific job description. Be concise, targeting 3 -5 key areas. Summarize your key responsibilities and accomplishments. Here again, take any opportunity t o use words you find in the job description. Be brief. Summarize your key responsibilities and accomplishments. Where appropriate, use the language and words you find in the job description. Be concise, targeting 3 -5 key areas. Bachelor of Arts in Art  Design Creativity 9/10 Jasper University 20XX  20XX Leadership 7/10 Problem Solving 10/10 4567 Main Street City, State 98052 (718) 555 0100 taylorexample.com Taylor Phillips State your career goals and show how they align with the job description youre targeting. Be brief and keep it from sounding generic. Be yourself. Design Director Senior Designer Designer First Up Consultants 20XX - Current Nod Publishing 20XX  20XX Adatum Corporation 20XX  20XX Summarize your key responsibilities and accomplishments. Where appropriate, use the language and words you find in the specific job description. Be concise, targeting 3 -5 key areas. Summarize your key responsibilities and accomplishments. Here again, take any opportunity to use words you find in the job description. Be brief. Summarize your key responsibilities and accomplishments. Where appropriate, use the language and words you find in the job description. Be concise, targeting 3 -5 key areas. Bachelor of Arts in Art  Design Creativity 9/10 Jasper University 20XX  20XX Leadership 7/10 Problem Solving 10/10 4567 Main Street City, State 98052 (718) 555 0100 taylorexample.com Taylor Phillips State your career goals and show how they align with the job description youre targeting. Be brief and keep it from sounding generic. Be yourself. Design Director Senior Designer Designer First Up Consultants 20XX - Current Nod Publishing 20XX  20XX Adatum Corporation 20XX  20XX Summarize your key responsibilities and accomplishments. Where appropriate, use the language and words you find in the specific job description. Be concise, targeting 3 -5 key areas. Summarize your key responsibilities and accomplishments. Here again, take any opportunity to use words you find in the job description. Be brief. Summarize your key responsibilities and accomplishments. Where appropriate, use the language and words you find in the job description. Be concise, targeting 3 -5 key areas. Bachelor of Arts in Art  Design Creativity 9/10 Jasper University 20XX  20XX Leadership 7/10 Problem Solving 10/10', 'annotation': [{'label': 'Name', 'points': [{'start': 82, 'end': 97, 'text': 'Taylor Phillips'}]}, {'label': 'Email', 'points': [{'start': 99, 'end': 118, 'text': 'taylorexample.com'}]}, {'label': 'Phone No', 'points': [{'start': 62, 'end': 78, 'text': '(718) 555 0100'}]}, {'label': 'Career Goals', 'points': [{'start': 126, 'end': 346, 'text': 'State your career goals and show how they align with the job description youre targeting. Be brief and keep it from sounding generic. Be yourself.'}]}, {'label': 'Experience', 'points': [{'start': 353, 'end': 388, 'text': 'Design Director Senior Designer Designer First Up Consultants 20XX - Current'}]}, {'label': 'Experience', 'points': [{'start': 406, 'end': 420, 'text': '20XX Adatum Corporation'}]}, {'label': 'Education', 'points': [{'start': 783, 'end': 831, 'text': 'Bachelor of Arts in Art  Design Creativity 9/10 Jasper University 20XX  20XX'}]}, {'label': 'Skills', 'points': [{'start': 427, 'end': 434, 'text': 'Designer'}]}, {'label': 'Skills', 'points': [{'start': 438, 'end': 452, 'text': 'First Up Consultants'}]}, {'label': 'Skills', 'points': [{'start': 454, 'end': 468, 'text': 'Nod Publishing'}]}, {'label': 'Skills', 'points': [{'start': 470, 'end': 486, 'text': 'Adatum Corporation'}]}, {'label': 'Skills', 'points': [{'start': 492, 'end': 514, 'text': 'Platform expertise'}]}, {'label': 'Skills', 'points': [{'start': 516, 'end': 532, 'text': 'Content creation'}]}, {'label': 'Skills', 'points': [{'start': 534, 'end': 542, 'text': 'Analytics'}]}, {'label': 'Skills', 'points': [{'start': 544, 'end': 557, 'text': 'Communication'}]}, {'label': 'Skills', 'points': [{'start': 559, 'end': 572, 'text': 'Creativity'}]}, {'label': 'Skills', 'points': [{'start': 574, 'end': 591, 'text': 'Strategic thinking'}]}], 'extras': None}, {'content': 'Office Manager Chanchal Sharma Objective State your career goals and show how they align with the job description youre targeting. Be brief and keep it from sounding generic. Be yourself. Experience January 20XX - Current Office Manager The Phone Company Summarize your key responsibilities and accomplishments. Where appropriate, use the language and words you find in the specific job description. Be concise, targeting 3 -5 key areas. March 20 XX - December 20 XX Office Manager Nod Publishing Summarize your key responsibilities and accomplishments. Here again, take any oppor tunity to use words you find in the job description. Be brief. August 20 XX - March 20 XX Office Manager Southridge Video Summarize your key responsibilities and accomplishments. Where appropriate, use the language and words you find in the job description. Be concise, targeting 3 -5 key areas. Education Sept 20XX - May 20XX A.S. H.R. Management Glennwood University Skills  Data analysis  Project management  Communication  Organization  Problem solving Interests This section is optional but can showcase the unique, intriguing, even fun side of who you are. Contact 4567 Main Street City, State 98052 (718) 555 0100 chanchalsexample.com Office Manager Chanchal Sharma Objective State your career goals and show how they align with the job description youre targeting. Be brief and keep it from sounding generic. Be yourself. Experience January 20XX - Current Office Manager The Phone Company Summarize your key responsibilities and accomplishments. Where appropriate, use the language and words you find in the specific job description. Be concise, targeting 3 -5 key areas. March 20 XX - December 20 XX Office Manager Nod Publishing Summarize your key responsibilities and accomplishments. Here again, take any oppor tunity to use words you find in the job description. Be brief. August 20 XX - March 20 XX Office Manager Southridge Video Summarize your key responsibilities and accomplishments. Where appropriate, use the language and words you find in the job description. Be concise, targeting 3 -5 key areas. Education Sept 20XX - May 20XX A.S. H.R. Management Glennwood University Skills  Data analysis  Project management  Communication  Organization  Problem solving Interests This section is optional but can showcase the unique, intriguing, even fun side of who you are. Contact 4567 Main Street City, State 98052 (718) 555 0100 chanchalsexample.com Office Manager Chanchal Sharma Objective State your career goals and show how they align with the job description youre targeting. Be brief and keep it from sounding generic. Be yourself. Experience January 20XX - Current Office Manager The Phone Company Summarize your key responsibilities and accomplishments. Where appropriate, use the language and words you find in the specific job description. Be concise, targeting 3 -5 key areas. March 20 XX - December 20 XX Office Manager Nod Publishing Summarize your key responsibilities and accomplishments. Here again, take any opportunity to use words you find in the job description. Be brief. August 20 XX - March 20 XX Office Manager Southridge Video Summarize your key responsibilities and acc omplishments. Where appropriate, use the language and words you find in the job description. Be concise, targeting 3 -5 key areas. Education Sept 20XX - May 20XX A.S. H.R. Management Glennwood University Skills  Data analysis  Project management  Communication  Organization  Problem solving Interests This section is optional but can showcase the unique, intriguing, even fun side of who you are. Contact 4567 Main Street City, State 98052 (718) 555 0100 chanchalsexample.com', 'annotation': [{'label': 'Name', 'points': [{'start': 15, 'end': 30, 'text': 'Chanchal Sharma'}]}, {'label': 'Phone No', 'points': [{'start': 307, 'end': 325, 'text': '(718) 555 0100'}]}, {'label': 'Email Address', 'points': [{'start': 326, 'end': 344, 'text': 'chanchalsexample.com'}]}, {'label': 'Experience', 'points': [{'start': 357, 'end': 383, 'text': 'January 20XX - Current Office Manager The Phone Company'}]}, {'label': 'Experience', 'points': [{'start': 615, 'end': 651, 'text': 'March 20 XX - December 20 XX Office Manager Nod Publishing'}]}, {'label': 'Experience', 'points': [{'start': 852, 'end': 888, 'text': 'August 20XX - March 20 XX Office Manager Southridge Video'}]}, {'label': 'Education', 'points': [{'start': 1100, 'end': 1140, 'text': 'Sept 20XX - May 20XX A.S. H.R. Management Glennwood University'}]}, {'label': 'Skills', 'points': [{'start': 1146, 'end': 1159, 'text': 'Data analysis'}]}, {'label': 'Skills', 'points': [{'start': 1161, 'end': 1180, 'text': 'Project management'}]}, {'label': 'Skills', 'points': [{'start': 1182, 'end': 1203, 'text': 'Communication'}]}, {'label': 'Skills', 'points': [{'start': 1205, 'end': 1222, 'text': 'Organization'}]}, {'label': 'Skills', 'points': [{'start': 1224, 'end': 1240, 'text': 'Problem solving'}]}], 'extras': None}, {'content': 'Profile Summary Work ExperienceEducationProfessional Skill Relevant SkillMUZAMMIL SHOUKAT WEB DEVELOPER  UI/UX DESIGNER .Net Desktop Application Development Bachelor of Sciences  Air University Sale ManagerHTML Android Mobile Application DevelopmentCSS 2020-2024 15 June 2022-10 Sept 2022Computer Science Work as a Sale Manager in YUMS Company in which I deal with all the dealers and manage the sales.JS ANGULAR JSmuzammil-shoukat 03068108103 github.com/zelikhan NODE JS FIGMAI am dedicated Computer Science student (6th semester) with a strong passion for Font end Web development and Ui/Ux Designing. I have gained diverse skills and experience across various domains, including marketing, Android App development, Desktop App development, Web Development  Ui Designing. I am highly motivated to utilize my versatile skill set to make meaningful contributions to organizations operating in the Web industry. Projects Point of Sale Desktop Application A point of sale desktop application software in C is a program that enables businesses to process sales transactions and manage inventory. It provides a user-friendly interface for cashiers to input sales data and generate receipts. The software also typically includes features such as inventory tracking, sales reports, and customer management. E-Commerce Mobile Application An e-Commerce mobile application software developed in Android Studio is designed to facilitate online shopping and transactions on mobile devices. It provides a user-friendly interface for browsing products, adding them to the cart, and making secure payments. The app also integrates features like order tracking, user authentication, and push notifications for a seamless shopping experience.Link Link Air University Website Clone To create a university website clone using HTML, CSS, JS, and AngularJS, you would start by designing the website structure using HTML, then apply CSS for styling and layout. Next, you would utilize JavaScript for interactive elements and functionality, and finally integrate AngularJS for building dynamic components and managing data bindings, resulting in a fully functional university website replica.LinkWeb Application DevelopmentADOBE CREATIVE SUITE PRESTASHOPData Crawler Crawling datasets from reputable academic publishers like IEEE, ACM, and Taylor  Francis enables systematic extraction of research papers and metadata, empowering researchers to analyze trends, conduct literature reviews, and make evidence-based decisions.Link Salon Website A salon website created using HTML and CSS combines the power of markup language and styling techniques to create an aesthetically pleasing and user-friendly online platform that showcases salon services, provides information about the salon, and allows customers to book appointments or contact the salon easily.Link Ramadan Mobile Application A Ramadan mobile application that features a Ramadan calendar, prayer timings, and reminders to assist users in their daily religious observances during the holy month.Link ASP MVC Web Application ASP MVC (Model-View-Controller) is a web application framework that separates the application logic into three components, allowing for organized development, testability, and scalability.Link UI/UX Designs Projects Minimalistic UI design of Shoes Website Link Hotel Menu Website Dashboard UI design Link Food Ordering App UI Design LinkGame Controller Website UI Design Link Nike Website UI Design Link Gaming Website UI Design LinkOther Projects Kids Learning Desktop Application Link To-Do Desktop Application Link Prank Login Page Link.Net Application with WPF Data Binding Link Application using service based database Link Mobile Selling Website using sql-database Link Interests Hockey Martial ArtsCoding Ui Designing Languages English Punjabi UrduVector Drawing Leading the Communities', 'annotation': [{'label': 'Name', 'points': [{'start': 44, 'end': 60, 'text': 'MUZAMMIL SHOUKAT'}]}, {'label': 'Phone No', 'points': [{'start': 681, 'end': 693, 'text': '03068108103'}]}, {'label': 'Email Address', 'points': [{'start': 694, 'end': 712, 'text': 'muzammil-shoukat@example.com'}]}, {'label': 'Education', 'points': [{'start': 139, 'end': 166, 'text': 'Bachelor of Sciences Air University'}]}, {'label': 'Experience', 'points': [{'start': 179, 'end': 212, 'text': 'Sale Manager YUMS Company'}]}, {'label': 'Skills', 'points': [{'start': 225, 'end': 238, 'text': 'HTML'}]}, {'label': 'Skills', 'points': [{'start': 239, 'end': 266, 'text': 'Android Mobile Application Development'}]}, {'label': 'Skills', 'points': [{'start': 267, 'end': 271, 'text': 'CSS'}]}, {'label': 'Skills', 'points': [{'start': 272, 'end': 290, 'text': 'JS ANGULAR JS'}]}, {'label': 'Skills', 'points': [{'start': 292, 'end': 297, 'text': 'NODE JS'}]}, {'label': 'Skills', 'points': [{'start': 298, 'end': 303, 'text': 'FIGMA'}]}], 'extras': None}, {'content': \"Zainab Bibi Data Analyst Fresh graduate Computer Systems Engineer, motivated to work in an organization relevant to my ﬁeld as my focus is on Data Analysis. I am a good listener and quick learner with good communication and presentation skills. mzainabkhan85gmail.com 03135933023 post oﬃce panian, district haripur, haripur, Pakistan linkedin.com/in/zainab-bibi-a177691b9 github.com/zainab-10 EDUCATION Bachelor's of Computer Systems Engineering University of Engineering and Technology Peshawar 09/2018 - 07/2022 , Pakistan/ CGPA 3.37 Kamyab Jawan course, Data Science and Bussiness Analyst PERSONAL PROJECTS House price prediction using ML (05/2022 - 06/2022) Extract Colors from the image using K Means Clustering (06/2022 - 07/2022) Diabetes detection Using ML. (06/2022 - 07/2022) Product Sales Data Analysis using Power BI (08/2022 - 08/2022) Financial Performance Analysis using Power BI (09/2022 - 09/2022) Global Health Expenditure Analysis using Power BI (09/2022 - 09/2022) WORK EXPERIENCE Web Development Internee NATIONAL CENTER OF ARTIFICIAL INTELLIGENCE (NCAI) 09/2021 - 11/2021 , Peshawar, Pakistan NCAI at UET Peshawar Front-end web Designing and Development Custom code in Php Design and recommend improvements to new and existing features Contact : - 92 332 9899369 Research Associate at NCAI UET Peshawar SKILLS python Data Science  Data Analytics MS Access Tableau Machine Learning HTML CSS PHP SQL (MySQL) Microsoft Excel Power BI Deep Learning CERTIFICATES Data Analytics Essentials (07/2022 - 08/2022) Programming for Everybody (Getting Started with Python) (06/2020 - 07/2020) Algorithmic Toolbox (06/2020 - 07/2020) Fundamentals of Graphic Design (06/2020 - 07/2020) LANGUAGES English Professional Working Proﬁciency Urdu Native or Bilingual Proﬁciency INTERESTS Reading Programming Team Management Self Supervising Courses Achievements/Tasks\", 'annotation': [{'label': 'Name', 'points': [{'start': 0, 'end': 10, 'text': 'Zainab Bibi'}]}, {'label': 'Email', 'points': [{'start': 228, 'end': 244, 'text': 'mzainabkhan85@gmail.com'}]}, {'label': 'Phone No', 'points': [{'start': 245, 'end': 256, 'text': '03135933023'}]}, {'label': 'Address', 'points': [{'start': 257, 'end': 300, 'text': 'post office panian, district haripur, haripur, Pakistan'}]}, {'label': 'Education', 'points': [{'start': 306, 'end': 387, 'text': \"Bachelor's of Computer Systems Engineering, University of Engineering and Technology Peshawar\"}]}, {'label': 'Experience', 'points': [{'start': 392, 'end': 422, 'text': 'Web Development Internee, NATIONAL CENTER OF ARTIFICIAL INTELLIGENCE (NCAI)'}]}, {'label': 'Skills', 'points': [{'start': 431, 'end': 436, 'text': 'python'}]}, {'label': 'Skills', 'points': [{'start': 437, 'end': 448, 'text': 'Data Science'}]}, {'label': 'Skills', 'points': [{'start': 449, 'end': 462, 'text': 'Data Analytics'}]}, {'label': 'Skills', 'points': [{'start': 463, 'end': 474, 'text': 'MS Access'}]}, {'label': 'Skills', 'points': [{'start': 475, 'end': 482, 'text': 'Tableau'}]}, {'label': 'Skills', 'points': [{'start': 483, 'end': 499, 'text': 'Machine Learning'}]}, {'label': 'Skills', 'points': [{'start': 500, 'end': 503, 'text': 'HTML'}]}, {'label': 'Skills', 'points': [{'start': 504, 'end': 507, 'text': 'CSS'}]}, {'label': 'Skills', 'points': [{'start': 508, 'end': 511, 'text': 'PHP'}]}, {'label': 'Skills', 'points': [{'start': 512, 'end': 515, 'text': 'SQL (MySQL)'}]}, {'label': 'Skills', 'points': [{'start': 516, 'end': 533, 'text': 'Microsoft Excel'}]}, {'label': 'Skills', 'points': [{'start': 534, 'end': 541, 'text': 'Power BI'}]}, {'label': 'Skills', 'points': [{'start': 542, 'end': 554, 'text': 'Deep Learning'}]}], 'extras': None}]\n"
          ]
        }
      ],
      "source": [
        "import json\n",
        "\n",
        "# Read the text file and split it into separate JSON objects\n",
        "with open('cvs_annotation_test.txt', 'r') as file:\n",
        "    json_data = file.read().split('\\n}\\n')\n",
        "json_data = [json_obj + '}' for json_obj in json_data[:-1]]\n",
        "i=0\n",
        "# data=[]\n",
        "# for dat in json_data:\n",
        "#   data.append(json_data)\n",
        "# print(json_data[-1])\n",
        "all_data=[]\n",
        "new_data=[]\n",
        "for i in range(len(json_data)):\n",
        "  try:\n",
        "    one_val = json.loads(json_data[i])\n",
        "    all_data.append(one_val)\n",
        "  except:\n",
        "    try:\n",
        "      # print(i)\n",
        "      # Find the position of \"annotation\" key\n",
        "      annotation_index = json_data[i].find('\"annotation\"')\n",
        "      # Add a comma before \"annotation\" key\n",
        "      fixed_json_data = json_data[i][:annotation_index - 1] + \",\" + json_data[i][annotation_index:]\n",
        "      one_val = json.loads(fixed_json_data)\n",
        "      new_json_data = {\n",
        "        \"content\": one_val[\"content\"],\n",
        "        \"annotation\": one_val[\"annotation\"],\n",
        "        \"extra\": None\n",
        "    }\n",
        "      all_data.append(new_json_data)\n",
        "    except:\n",
        "      print(i)\n",
        "\n",
        "\n",
        "# Print the new JSON string\n",
        "print(all_data)\n"
      ]
    },
    {
      "cell_type": "code",
      "execution_count": 338,
      "metadata": {
        "colab": {
          "base_uri": "https://localhost:8080/"
        },
        "id": "QPSoIT5kKKsQ",
        "outputId": "8ff8abd5-7d40-4984-d774-d55fc5718c7d"
      },
      "outputs": [
        {
          "name": "stdout",
          "output_type": "stream",
          "text": [
            "{'content': 'Ayesha Khalique Hiring Manager Trey Research 89 Pacific Ave San Francisco, CA 65432 Dear Ayesha Khalique, Want to put your own image in the circle? It is easy! Select the image and do a right mouse click. Select Fill from the shortcut menu. Choose Picture from the list. Navigate your computer to get the appropriate picture. Click okay to insert your selected image. Once your image has been inserted, select it again. Go to the Picture Tools Format menu. Click on the down arrow below Crop and select Fill from the list. This will auto adjust your image to crop to the image. You can click and drag your image to place it appropriately. Are you looking for a job title with: Number years of hands-on experience in the area of expertise? Knowledge of the latest technology in the industry or field? Excellent written and oral communication skills? A passion to learn and to increase his skills? If so, then you need look no further. You will see from my enclosed resume that I meet all of these qualifications and more. I would very much like to discuss opportunities with Company Name. To schedule an interview, please call me at phone. The best time to reach me is between the earliest time and latest time, but you can leave a voice message at any time, and I will return your call. Thank you for taking the time to review my resume. I look forward to talking with you. Sincerely, Dian Nugraha Enclosure DIAN NUGRAHA 210 Stars Ave Berkeley, CA 78910 808.555.0118 dian@example.com www.reallygreatsite.com', 'annotation': [{'label': 'Name', 'points': [{'start': 0, 'end': 15, 'text': 'Ayesha Khalique'}]}, {'label': 'Job Title', 'points': [{'start': 16, 'end': 30, 'text': 'Hiring Manager'}]}, {'label': 'Company Name', 'points': [{'start': 31, 'end': 44, 'text': 'Trey Research'}]}, {'label': 'Address', 'points': [{'start': 45, 'end': 83, 'text': '89 Pacific Ave San Francisco, CA 65432'}]}, {'label': 'Greeting', 'points': [{'start': 84, 'end': 105, 'text': 'Dear Ayesha Khalique,'}]}, {'label': 'Email Address', 'points': [{'start': 1467, 'end': 1483, 'text': 'dian@example.com'}]}, {'label': 'Phone No', 'points': [{'start': 1454, 'end': 1466, 'text': '808.555.0118'}]}], 'extras': None}\n"
          ]
        }
      ],
      "source": [
        "def update_annotation_content(data):\n",
        "    content = data[\"content\"]\n",
        "    annotations = data[\"annotation\"]\n",
        "    labels_to_remove = []  # Store the labels to remove from the data\n",
        "    updated_annotations = []  # Store the updated annotations\n",
        "\n",
        "    for ann in annotations:\n",
        "        points = ann[\"points\"]\n",
        "        updated_points = []\n",
        "        for point in points:\n",
        "            text = point[\"text\"]\n",
        "            try:\n",
        "                start = content.index(text)\n",
        "                end = start + len(text)\n",
        "                updated_points.append({\n",
        "                    \"start\": start,\n",
        "                    \"end\": end,\n",
        "                    \"text\": text\n",
        "                })\n",
        "            except ValueError:\n",
        "                labels_to_remove.append(ann)\n",
        "                break\n",
        "\n",
        "        if updated_points:\n",
        "            updated_annotations.append({\n",
        "                \"label\": ann[\"label\"],\n",
        "                \"points\": updated_points\n",
        "            })\n",
        "\n",
        "    # Update the annotations in the data dictionary\n",
        "    data[\"annotation\"] = updated_annotations\n",
        "\n",
        "# Update the start and end values in the data dictionary and remove problematic labels\n",
        "new_all_data = []\n",
        "for data in all_data:\n",
        "    update_annotation_content(data)\n",
        "    new_all_data.append(data)\n",
        "\n",
        "# Print the updated data\n",
        "for data in new_all_data:\n",
        "    print(data)\n",
        "    break\n"
      ]
    },
    {
      "cell_type": "code",
      "execution_count": 339,
      "metadata": {
        "colab": {
          "base_uri": "https://localhost:8080/"
        },
        "id": "gEE6t8lbUl7r",
        "outputId": "bb2ef0e4-7c54-4f4d-89f4-98855b4a937d"
      },
      "outputs": [
        {
          "name": "stdout",
          "output_type": "stream",
          "text": [
            "{'content': 'Ayesha Khalique Hiring Manager Trey Research 89 Pacific Ave San Francisco, CA 65432 Dear Ayesha Khalique, Want to put your own image in the circle? It is easy! Select the image and do a right mouse click. Select Fill from the shortcut menu. Choose Picture from the list. Navigate your computer to get the appropriate picture. Click okay to insert your selected image. Once your image has been inserted, select it again. Go to the Picture Tools Format menu. Click on the down arrow below Crop and select Fill from the list. This will auto adjust your image to crop to the image. You can click and drag your image to place it appropriately. Are you looking for a job title with: Number years of hands-on experience in the area of expertise? Knowledge of the latest technology in the industry or field? Excellent written and oral communication skills? A passion to learn and to increase his skills? If so, then you need look no further. You will see from my enclosed resume that I meet all of these qualifications and more. I would very much like to discuss opportunities with Company Name. To schedule an interview, please call me at phone. The best time to reach me is between the earliest time and latest time, but you can leave a voice message at any time, and I will return your call. Thank you for taking the time to review my resume. I look forward to talking with you. Sincerely, Dian Nugraha Enclosure DIAN NUGRAHA 210 Stars Ave Berkeley, CA 78910 808.555.0118 dian@example.com www.reallygreatsite.com', 'annotation': [{'label': 'Name', 'points': [{'start': 0, 'end': 15, 'text': 'Ayesha Khalique'}]}, {'label': 'Job Title', 'points': [{'start': 16, 'end': 30, 'text': 'Hiring Manager'}]}, {'label': 'Company Name', 'points': [{'start': 31, 'end': 44, 'text': 'Trey Research'}]}, {'label': 'Address', 'points': [{'start': 45, 'end': 83, 'text': '89 Pacific Ave San Francisco, CA 65432'}]}, {'label': 'Greeting', 'points': [{'start': 84, 'end': 105, 'text': 'Dear Ayesha Khalique,'}]}, {'label': 'Email Address', 'points': [{'start': 1467, 'end': 1483, 'text': 'dian@example.com'}]}, {'label': 'Phone No', 'points': [{'start': 1454, 'end': 1466, 'text': '808.555.0118'}]}], 'extras': None}\n",
            "{'content': 'RABIA EHSAN UL HAQ App Developer Automated Planet NEP-NIC, Quetta March 2022 - Nov 2022 working as an app developer and Leading a start-up at NEP-NIC University of Balochistan Quetta Graphic designer MZ creations, Quetta 2022 Working as a graphic designer of home automation product related company at Mz creations Islamabad (Remotely) EXPERIENCE University Of Balochistan, Quetta 3.69 CGPA out of 4.00 (Gold Medalist) BS Information Technology 2017-2021 Govt Girls Post Graduate College Quetta Cantt, Quetta First Division Intermediate 2015-2017 EDUCATION Skill group Adobe Photoshop Figma Adobe Illustrator Adobe XD Flutter OOPs GetX, Provider Firebase Java Git, Github REST APIs MySQL SKILLS Learning Playing Coding Designing INTERESTS Imagine Cup Winner of FYP project Microsoft Imagine Cup Winner 2022 SDG challenge certification SDG challenge cup certification 2021 Entrepreneur USAID Entrepreneurship certified Certification Android application development from Pakistan freelancing Training Program (PFTP) Certification Graphic Designing certification from DigiSkills Certification Creative Designing certification from DigiBizz Gold Medalist Achieve Gold Medal in BS(Information Technology) ACHIEVEMENTS English Urdu LANGUAGES Address Sector 1 Street No 4 house no 14 Bahira Cooperate housing society Karachi. Contact No 03077898899 Email Address rabiaehsan567@gmail.com CONTACT INFORMATION', 'annotation': [{'label': 'Name', 'points': [{'start': 0, 'end': 18, 'text': 'RABIA EHSAN UL HAQ'}]}, {'label': 'Job Title', 'points': [{'start': 19, 'end': 32, 'text': 'App Developer'}]}, {'label': 'Company Name', 'points': [{'start': 33, 'end': 57, 'text': 'Automated Planet NEP-NIC'}]}, {'label': 'Address', 'points': [{'start': 1244, 'end': 1318, 'text': 'Sector 1 Street No 4 house no 14 Bahira Cooperate housing society Karachi.'}]}, {'label': 'Phone No', 'points': [{'start': 1330, 'end': 1341, 'text': '03077898899'}]}, {'label': 'Email Address', 'points': [{'start': 1356, 'end': 1379, 'text': 'rabiaehsan567@gmail.com'}]}, {'label': 'Experience', 'points': [{'start': 66, 'end': 182, 'text': 'March 2022 - Nov 2022 working as an app developer and Leading a start-up at NEP-NIC University of Balochistan Quetta'}]}, {'label': 'Experience', 'points': [{'start': 221, 'end': 335, 'text': '2022 Working as a graphic designer of home automation product related company at Mz creations Islamabad (Remotely)'}]}, {'label': 'Skills', 'points': [{'start': 569, 'end': 584, 'text': 'Adobe Photoshop'}]}, {'label': 'Skills', 'points': [{'start': 585, 'end': 590, 'text': 'Figma'}]}, {'label': 'Skills', 'points': [{'start': 591, 'end': 608, 'text': 'Adobe Illustrator'}]}, {'label': 'Skills', 'points': [{'start': 609, 'end': 617, 'text': 'Adobe XD'}]}, {'label': 'Skills', 'points': [{'start': 618, 'end': 625, 'text': 'Flutter'}]}, {'label': 'Skills', 'points': [{'start': 626, 'end': 630, 'text': 'OOPs'}]}, {'label': 'Skills', 'points': [{'start': 631, 'end': 635, 'text': 'GetX'}]}, {'label': 'Skills', 'points': [{'start': 637, 'end': 645, 'text': 'Provider'}]}, {'label': 'Skills', 'points': [{'start': 646, 'end': 654, 'text': 'Firebase'}]}, {'label': 'Skills', 'points': [{'start': 655, 'end': 659, 'text': 'Java'}]}, {'label': 'Skills', 'points': [{'start': 660, 'end': 663, 'text': 'Git'}]}, {'label': 'Skills', 'points': [{'start': 665, 'end': 671, 'text': 'Github'}]}, {'label': 'Skills', 'points': [{'start': 672, 'end': 681, 'text': 'REST APIs'}]}, {'label': 'Skills', 'points': [{'start': 682, 'end': 687, 'text': 'MySQL'}]}], 'extras': None}\n",
            "{'content': \"M I R A K A R L S S O N SOCIAL MEDIA MARKETING SPECIALIST CONTACT 816-555-0146 miraexample.com www.example.com PROFILE Social Media Marketing Specialist, utilizing my 5 years of experience in creating and executing successful social media campaigns, developing engaging content, analyzing and reporting on campaign performance, and staying up to date with the latest trends and best practices in social media marketing. My goal is to increase brand awareness, engagement, and conversion rates while delivering exceptional results and exceeding goals for the company. SKILLS Platform expertise Content creation Analytics Communication Creativity Strategic thinking EXPERIENCE Social Media Marketing Specialist 20XX -20YY Developed and executed successful social media campaigns across multiple platforms to increase brand awareness and drive traffic to the company's website. Managed and grew the company's social media accounts by creating engaging content, monitoring analytics, and implementing social media best practices. Collaborated with cross -functional teams to develop and execute integrated marketing campaigns that leveraged social media to meet business objectives. Digital Marketing Manager 20XX -20YY Led the development and implementation of the company's digital marketing strategy, including social media marketing, email marketing, and paid advertising. Analyzed and reported on the p erformance of digital marketing campaigns, using data -driven insights to optimize and improve campaign effectiveness. Content Marketing Specialist 20XX -20YY Developed and executed content marketing strategies that leveraged social media to drive tr affic, engagement, and conversions. Produced high -quality, engaging content for social media, email marketing, and the company's blog. EDUCATION Bellows College 20XX -20YY BA in Communications East Beringer Community College 20XX -20YY AA in Communications\", 'annotation': [{'label': 'Name', 'points': [{'start': 0, 'end': 23, 'text': 'M I R A K A R L S S O N'}]}, {'label': 'Job Title', 'points': [{'start': 24, 'end': 57, 'text': 'SOCIAL MEDIA MARKETING SPECIALIST'}]}, {'label': 'Phone No', 'points': [{'start': 66, 'end': 78, 'text': '816-555-0146'}]}, {'label': 'Website', 'points': [{'start': 95, 'end': 110, 'text': 'www.example.com'}]}, {'label': 'Profile', 'points': [{'start': 119, 'end': 566, 'text': 'Social Media Marketing Specialist, utilizing my 5 years of experience in creating and executing successful social media campaigns, developing engaging content, analyzing and reporting on campaign performance, and staying up to date with the latest trends and best practices in social media marketing. My goal is to increase brand awareness, engagement, and conversion rates while delivering exceptional results and exceeding goals for the company.'}]}, {'label': 'Skills', 'points': [{'start': 574, 'end': 592, 'text': 'Platform expertise'}]}, {'label': 'Skills', 'points': [{'start': 593, 'end': 609, 'text': 'Content creation'}]}, {'label': 'Skills', 'points': [{'start': 610, 'end': 619, 'text': 'Analytics'}]}, {'label': 'Skills', 'points': [{'start': 620, 'end': 633, 'text': 'Communication'}]}, {'label': 'Skills', 'points': [{'start': 634, 'end': 644, 'text': 'Creativity'}]}, {'label': 'Skills', 'points': [{'start': 645, 'end': 663, 'text': 'Strategic thinking'}]}, {'label': 'Experience', 'points': [{'start': 675, 'end': 719, 'text': 'Social Media Marketing Specialist 20XX -20YY'}]}, {'label': 'Experience', 'points': [{'start': 1179, 'end': 1215, 'text': 'Digital Marketing Manager 20XX -20YY'}]}, {'label': 'Experience', 'points': [{'start': 1523, 'end': 1562, 'text': 'Content Marketing Specialist 20XX -20YY'}]}, {'label': 'Education', 'points': [{'start': 1801, 'end': 1848, 'text': 'Bellows College 20XX -20YY BA in Communications'}]}, {'label': 'Education', 'points': [{'start': 1849, 'end': 1912, 'text': 'East Beringer Community College 20XX -20YY AA in Communications'}]}], 'extras': None}\n",
            "{'content': '4567 Main Street City, State 98052 (718) 555 0100 taylorexample.com Taylor Phillips State your career goals and show how they align with the job description youre targeting. Be brief and keep it from sounding generic. Be yourself. Design Director Senior Designer Designer First Up Consultants 20XX - Current Nod Publishing 20XX  20XX Adatum Corporation 20XX  20XX Summarize your key responsibilities and accomplishments. Where appropriate, use the language and words you find in the specific job description. Be concise, targeting 3 -5 key areas. Summarize your key responsibilities and accomplishments. Here again, take any opportunity t o use words you find in the job description. Be brief. Summarize your key responsibilities and accomplishments. Where appropriate, use the language and words you find in the job description. Be concise, targeting 3 -5 key areas. Bachelor of Arts in Art  Design Creativity 9/10 Jasper University 20XX  20XX Leadership 7/10 Problem Solving 10/10 4567 Main Street City, State 98052 (718) 555 0100 taylorexample.com Taylor Phillips State your career goals and show how they align with the job description youre targeting. Be brief and keep it from sounding generic. Be yourself. Design Director Senior Designer Designer First Up Consultants 20XX - Current Nod Publishing 20XX  20XX Adatum Corporation 20XX  20XX Summarize your key responsibilities and accomplishments. Where appropriate, use the language and words you find in the specific job description. Be concise, targeting 3 -5 key areas. Summarize your key responsibilities and accomplishments. Here again, take any opportunity to use words you find in the job description. Be brief. Summarize your key responsibilities and accomplishments. Where appropriate, use the language and words you find in the job description. Be concise, targeting 3 -5 key areas. Bachelor of Arts in Art  Design Creativity 9/10 Jasper University 20XX  20XX Leadership 7/10 Problem Solving 10/10 4567 Main Street City, State 98052 (718) 555 0100 taylorexample.com Taylor Phillips State your career goals and show how they align with the job description youre targeting. Be brief and keep it from sounding generic. Be yourself. Design Director Senior Designer Designer First Up Consultants 20XX - Current Nod Publishing 20XX  20XX Adatum Corporation 20XX  20XX Summarize your key responsibilities and accomplishments. Where appropriate, use the language and words you find in the specific job description. Be concise, targeting 3 -5 key areas. Summarize your key responsibilities and accomplishments. Here again, take any opportunity to use words you find in the job description. Be brief. Summarize your key responsibilities and accomplishments. Where appropriate, use the language and words you find in the job description. Be concise, targeting 3 -5 key areas. Bachelor of Arts in Art  Design Creativity 9/10 Jasper University 20XX  20XX Leadership 7/10 Problem Solving 10/10', 'annotation': [{'label': 'Name', 'points': [{'start': 68, 'end': 83, 'text': 'Taylor Phillips'}]}, {'label': 'Email', 'points': [{'start': 50, 'end': 67, 'text': 'taylorexample.com'}]}, {'label': 'Phone No', 'points': [{'start': 35, 'end': 49, 'text': '(718) 555 0100'}]}, {'label': 'Career Goals', 'points': [{'start': 84, 'end': 230, 'text': 'State your career goals and show how they align with the job description youre targeting. Be brief and keep it from sounding generic. Be yourself.'}]}, {'label': 'Experience', 'points': [{'start': 231, 'end': 307, 'text': 'Design Director Senior Designer Designer First Up Consultants 20XX - Current'}]}, {'label': 'Experience', 'points': [{'start': 329, 'end': 352, 'text': '20XX Adatum Corporation'}]}, {'label': 'Education', 'points': [{'start': 868, 'end': 944, 'text': 'Bachelor of Arts in Art  Design Creativity 9/10 Jasper University 20XX  20XX'}]}, {'label': 'Skills', 'points': [{'start': 254, 'end': 262, 'text': 'Designer'}]}, {'label': 'Skills', 'points': [{'start': 272, 'end': 292, 'text': 'First Up Consultants'}]}, {'label': 'Skills', 'points': [{'start': 308, 'end': 322, 'text': 'Nod Publishing'}]}, {'label': 'Skills', 'points': [{'start': 334, 'end': 352, 'text': 'Adatum Corporation'}]}, {'label': 'Skills', 'points': [{'start': 900, 'end': 910, 'text': 'Creativity'}]}], 'extras': None}\n",
            "{'content': 'Office Manager Chanchal Sharma Objective State your career goals and show how they align with the job description youre targeting. Be brief and keep it from sounding generic. Be yourself. Experience January 20XX - Current Office Manager The Phone Company Summarize your key responsibilities and accomplishments. Where appropriate, use the language and words you find in the specific job description. Be concise, targeting 3 -5 key areas. March 20 XX - December 20 XX Office Manager Nod Publishing Summarize your key responsibilities and accomplishments. Here again, take any oppor tunity to use words you find in the job description. Be brief. August 20 XX - March 20 XX Office Manager Southridge Video Summarize your key responsibilities and accomplishments. Where appropriate, use the language and words you find in the job description. Be concise, targeting 3 -5 key areas. Education Sept 20XX - May 20XX A.S. H.R. Management Glennwood University Skills  Data analysis  Project management  Communication  Organization  Problem solving Interests This section is optional but can showcase the unique, intriguing, even fun side of who you are. Contact 4567 Main Street City, State 98052 (718) 555 0100 chanchalsexample.com Office Manager Chanchal Sharma Objective State your career goals and show how they align with the job description youre targeting. Be brief and keep it from sounding generic. Be yourself. Experience January 20XX - Current Office Manager The Phone Company Summarize your key responsibilities and accomplishments. Where appropriate, use the language and words you find in the specific job description. Be concise, targeting 3 -5 key areas. March 20 XX - December 20 XX Office Manager Nod Publishing Summarize your key responsibilities and accomplishments. Here again, take any oppor tunity to use words you find in the job description. Be brief. August 20 XX - March 20 XX Office Manager Southridge Video Summarize your key responsibilities and accomplishments. Where appropriate, use the language and words you find in the job description. Be concise, targeting 3 -5 key areas. Education Sept 20XX - May 20XX A.S. H.R. Management Glennwood University Skills  Data analysis  Project management  Communication  Organization  Problem solving Interests This section is optional but can showcase the unique, intriguing, even fun side of who you are. Contact 4567 Main Street City, State 98052 (718) 555 0100 chanchalsexample.com Office Manager Chanchal Sharma Objective State your career goals and show how they align with the job description youre targeting. Be brief and keep it from sounding generic. Be yourself. Experience January 20XX - Current Office Manager The Phone Company Summarize your key responsibilities and accomplishments. Where appropriate, use the language and words you find in the specific job description. Be concise, targeting 3 -5 key areas. March 20 XX - December 20 XX Office Manager Nod Publishing Summarize your key responsibilities and accomplishments. Here again, take any opportunity to use words you find in the job description. Be brief. August 20 XX - March 20 XX Office Manager Southridge Video Summarize your key responsibilities and acc omplishments. Where appropriate, use the language and words you find in the job description. Be concise, targeting 3 -5 key areas. Education Sept 20XX - May 20XX A.S. H.R. Management Glennwood University Skills  Data analysis  Project management  Communication  Organization  Problem solving Interests This section is optional but can showcase the unique, intriguing, even fun side of who you are. Contact 4567 Main Street City, State 98052 (718) 555 0100 chanchalsexample.com', 'annotation': [{'label': 'Name', 'points': [{'start': 15, 'end': 30, 'text': 'Chanchal Sharma'}]}, {'label': 'Phone No', 'points': [{'start': 1187, 'end': 1201, 'text': '(718) 555 0100'}]}, {'label': 'Email Address', 'points': [{'start': 1202, 'end': 1222, 'text': 'chanchalsexample.com'}]}, {'label': 'Experience', 'points': [{'start': 199, 'end': 254, 'text': 'January 20XX - Current Office Manager The Phone Company'}]}, {'label': 'Experience', 'points': [{'start': 438, 'end': 496, 'text': 'March 20 XX - December 20 XX Office Manager Nod Publishing'}]}, {'label': 'Education', 'points': [{'start': 887, 'end': 949, 'text': 'Sept 20XX - May 20XX A.S. H.R. Management Glennwood University'}]}, {'label': 'Skills', 'points': [{'start': 958, 'end': 971, 'text': 'Data analysis'}]}, {'label': 'Skills', 'points': [{'start': 973, 'end': 991, 'text': 'Project management'}]}, {'label': 'Skills', 'points': [{'start': 993, 'end': 1006, 'text': 'Communication'}]}, {'label': 'Skills', 'points': [{'start': 1008, 'end': 1020, 'text': 'Organization'}]}, {'label': 'Skills', 'points': [{'start': 1022, 'end': 1037, 'text': 'Problem solving'}]}], 'extras': None}\n",
            "{'content': 'Profile Summary Work ExperienceEducationProfessional Skill Relevant SkillMUZAMMIL SHOUKAT WEB DEVELOPER  UI/UX DESIGNER .Net Desktop Application Development Bachelor of Sciences  Air University Sale ManagerHTML Android Mobile Application DevelopmentCSS 2020-2024 15 June 2022-10 Sept 2022Computer Science Work as a Sale Manager in YUMS Company in which I deal with all the dealers and manage the sales.JS ANGULAR JSmuzammil-shoukat 03068108103 github.com/zelikhan NODE JS FIGMAI am dedicated Computer Science student (6th semester) with a strong passion for Font end Web development and Ui/Ux Designing. I have gained diverse skills and experience across various domains, including marketing, Android App development, Desktop App development, Web Development  Ui Designing. I am highly motivated to utilize my versatile skill set to make meaningful contributions to organizations operating in the Web industry. Projects Point of Sale Desktop Application A point of sale desktop application software in C is a program that enables businesses to process sales transactions and manage inventory. It provides a user-friendly interface for cashiers to input sales data and generate receipts. The software also typically includes features such as inventory tracking, sales reports, and customer management. E-Commerce Mobile Application An e-Commerce mobile application software developed in Android Studio is designed to facilitate online shopping and transactions on mobile devices. It provides a user-friendly interface for browsing products, adding them to the cart, and making secure payments. The app also integrates features like order tracking, user authentication, and push notifications for a seamless shopping experience.Link Link Air University Website Clone To create a university website clone using HTML, CSS, JS, and AngularJS, you would start by designing the website structure using HTML, then apply CSS for styling and layout. Next, you would utilize JavaScript for interactive elements and functionality, and finally integrate AngularJS for building dynamic components and managing data bindings, resulting in a fully functional university website replica.LinkWeb Application DevelopmentADOBE CREATIVE SUITE PRESTASHOPData Crawler Crawling datasets from reputable academic publishers like IEEE, ACM, and Taylor  Francis enables systematic extraction of research papers and metadata, empowering researchers to analyze trends, conduct literature reviews, and make evidence-based decisions.Link Salon Website A salon website created using HTML and CSS combines the power of markup language and styling techniques to create an aesthetically pleasing and user-friendly online platform that showcases salon services, provides information about the salon, and allows customers to book appointments or contact the salon easily.Link Ramadan Mobile Application A Ramadan mobile application that features a Ramadan calendar, prayer timings, and reminders to assist users in their daily religious observances during the holy month.Link ASP MVC Web Application ASP MVC (Model-View-Controller) is a web application framework that separates the application logic into three components, allowing for organized development, testability, and scalability.Link UI/UX Designs Projects Minimalistic UI design of Shoes Website Link Hotel Menu Website Dashboard UI design Link Food Ordering App UI Design LinkGame Controller Website UI Design Link Nike Website UI Design Link Gaming Website UI Design LinkOther Projects Kids Learning Desktop Application Link To-Do Desktop Application Link Prank Login Page Link.Net Application with WPF Data Binding Link Application using service based database Link Mobile Selling Website using sql-database Link Interests Hockey Martial ArtsCoding Ui Designing Languages English Punjabi UrduVector Drawing Leading the Communities', 'annotation': [{'label': 'Name', 'points': [{'start': 73, 'end': 89, 'text': 'MUZAMMIL SHOUKAT'}]}, {'label': 'Phone No', 'points': [{'start': 432, 'end': 443, 'text': '03068108103'}]}, {'label': 'Skills', 'points': [{'start': 206, 'end': 210, 'text': 'HTML'}]}, {'label': 'Skills', 'points': [{'start': 211, 'end': 249, 'text': 'Android Mobile Application Development'}]}, {'label': 'Skills', 'points': [{'start': 249, 'end': 252, 'text': 'CSS'}]}, {'label': 'Skills', 'points': [{'start': 402, 'end': 415, 'text': 'JS ANGULAR JS'}]}, {'label': 'Skills', 'points': [{'start': 464, 'end': 471, 'text': 'NODE JS'}]}, {'label': 'Skills', 'points': [{'start': 472, 'end': 477, 'text': 'FIGMA'}]}], 'extras': None}\n",
            "{'content': \"Zainab Bibi Data Analyst Fresh graduate Computer Systems Engineer, motivated to work in an organization relevant to my ﬁeld as my focus is on Data Analysis. I am a good listener and quick learner with good communication and presentation skills. mzainabkhan85gmail.com 03135933023 post oﬃce panian, district haripur, haripur, Pakistan linkedin.com/in/zainab-bibi-a177691b9 github.com/zainab-10 EDUCATION Bachelor's of Computer Systems Engineering University of Engineering and Technology Peshawar 09/2018 - 07/2022 , Pakistan/ CGPA 3.37 Kamyab Jawan course, Data Science and Bussiness Analyst PERSONAL PROJECTS House price prediction using ML (05/2022 - 06/2022) Extract Colors from the image using K Means Clustering (06/2022 - 07/2022) Diabetes detection Using ML. (06/2022 - 07/2022) Product Sales Data Analysis using Power BI (08/2022 - 08/2022) Financial Performance Analysis using Power BI (09/2022 - 09/2022) Global Health Expenditure Analysis using Power BI (09/2022 - 09/2022) WORK EXPERIENCE Web Development Internee NATIONAL CENTER OF ARTIFICIAL INTELLIGENCE (NCAI) 09/2021 - 11/2021 , Peshawar, Pakistan NCAI at UET Peshawar Front-end web Designing and Development Custom code in Php Design and recommend improvements to new and existing features Contact : - 92 332 9899369 Research Associate at NCAI UET Peshawar SKILLS python Data Science  Data Analytics MS Access Tableau Machine Learning HTML CSS PHP SQL (MySQL) Microsoft Excel Power BI Deep Learning CERTIFICATES Data Analytics Essentials (07/2022 - 08/2022) Programming for Everybody (Getting Started with Python) (06/2020 - 07/2020) Algorithmic Toolbox (06/2020 - 07/2020) Fundamentals of Graphic Design (06/2020 - 07/2020) LANGUAGES English Professional Working Proﬁciency Urdu Native or Bilingual Proﬁciency INTERESTS Reading Programming Team Management Self Supervising Courses Achievements/Tasks\", 'annotation': [{'label': 'Name', 'points': [{'start': 0, 'end': 11, 'text': 'Zainab Bibi'}]}, {'label': 'Phone No', 'points': [{'start': 268, 'end': 279, 'text': '03135933023'}]}, {'label': 'Skills', 'points': [{'start': 1332, 'end': 1338, 'text': 'python'}]}, {'label': 'Skills', 'points': [{'start': 557, 'end': 569, 'text': 'Data Science'}]}, {'label': 'Skills', 'points': [{'start': 1353, 'end': 1367, 'text': 'Data Analytics'}]}, {'label': 'Skills', 'points': [{'start': 1368, 'end': 1377, 'text': 'MS Access'}]}, {'label': 'Skills', 'points': [{'start': 1378, 'end': 1385, 'text': 'Tableau'}]}, {'label': 'Skills', 'points': [{'start': 1386, 'end': 1402, 'text': 'Machine Learning'}]}, {'label': 'Skills', 'points': [{'start': 1403, 'end': 1407, 'text': 'HTML'}]}, {'label': 'Skills', 'points': [{'start': 1408, 'end': 1411, 'text': 'CSS'}]}, {'label': 'Skills', 'points': [{'start': 1412, 'end': 1415, 'text': 'PHP'}]}, {'label': 'Skills', 'points': [{'start': 1416, 'end': 1427, 'text': 'SQL (MySQL)'}]}, {'label': 'Skills', 'points': [{'start': 1428, 'end': 1443, 'text': 'Microsoft Excel'}]}, {'label': 'Skills', 'points': [{'start': 820, 'end': 828, 'text': 'Power BI'}]}, {'label': 'Skills', 'points': [{'start': 1453, 'end': 1466, 'text': 'Deep Learning'}]}], 'extras': None}\n"
          ]
        }
      ],
      "source": [
        "for dat in range(len(new_all_data)):\n",
        "  print(new_all_data[dat])"
      ]
    },
    {
      "cell_type": "code",
      "execution_count": 359,
      "metadata": {
        "id": "MC3smOP7Fm5f"
      },
      "outputs": [],
      "source": [
        "resume_data=new_all_data"
      ]
    },
    {
      "cell_type": "markdown",
      "metadata": {},
      "source": [
        "### Preprocessing of data to make it suitable for the model"
      ]
    },
    {
      "cell_type": "code",
      "execution_count": 361,
      "metadata": {
        "id": "f3bgj-jABIIb"
      },
      "outputs": [],
      "source": [
        "\n",
        "def get_label(offset, labels):\n",
        "    print(\"offset:\",offset[0],\",\",offset[1])\n",
        "    if not labels or offset[0]==offset[1]:\n",
        "        return 'O',(None,None)\n",
        "    for label in labels:\n",
        "        label_start = label['points'][0]['start']\n",
        "\n",
        "        label_end = label['points'][0]['end']\n",
        "        if label_start <= offset[0] and offset[1] < label_end:\n",
        "            print(label_start,\",\",label_end)\n",
        "\n",
        "            print(label['label'])\n",
        "            return label['label'],(label_start,label_end)\n",
        "    return 'O',(None,None)\n",
        "\n",
        "\n",
        "tags_vals = [\"O\",\"Objective\",\"Experience\", \"LinkedIn\",\"Career Goals\",\"Profile\",\"Greeting\",\"Greeting\",\"Company Name\",\"Job Title\",\"Phone No.\", \"Website\",\"Name\",\"Address\",\"Email\",\"Companies worked at\", \"Phone No\",\"Skills\", \"Email Address\",\n",
        "             \"Location\",\"Degree\",\"Skills\",\"College Name\",\"Graduation Year\",\"Education\",\"Designation\",\"Years of Experience\"]\n",
        "\n",
        "tag2idx = {t: i for i, t in enumerate(tags_vals)}\n",
        "idx2tag = {i: t for i, t in enumerate(tags_vals)}"
      ]
    },
    {
      "cell_type": "code",
      "execution_count": 362,
      "metadata": {
        "id": "i-adU22iBeOb"
      },
      "outputs": [],
      "source": [
        "class ResumeDataset(Dataset):\n",
        "    def __init__(self, resume, tokenizer, tag2idx, max_len, is_test=False):\n",
        "        self.resume = resume\n",
        "        self.tokenizer = tokenizer\n",
        "        self.is_test = is_test\n",
        "        self.tag2idx = tag2idx\n",
        "        self.max_len = max_len\n",
        "\n",
        "    def __len__(self):\n",
        "        return len(self.resume)\n",
        "\n",
        "    def __getitem__(self, idx):\n",
        "        data = process_resume(\n",
        "            self.resume[idx], self.tokenizer, self.tag2idx, self.max_len, self.is_test)\n",
        "        return {\n",
        "            'input_ids': torch.tensor(data['input_ids'], dtype=torch.long),\n",
        "            'token_type_ids': torch.tensor(data['token_type_ids'], dtype=torch.long),\n",
        "            'attention_mask': torch.tensor(data['attention_mask'], dtype=torch.long),\n",
        "            'labels': torch.tensor(data['labels'], dtype=torch.long),\n",
        "            'orig_label': data['orig_labels']\n",
        "        }"
      ]
    },
    {
      "cell_type": "code",
      "execution_count": 363,
      "metadata": {
        "colab": {
          "base_uri": "https://localhost:8080/"
        },
        "id": "BWkenlLAjqid",
        "outputId": "4d52f855-ba1b-4605-a27b-89bfe0c71a75"
      },
      "outputs": [
        {
          "name": "stderr",
          "output_type": "stream",
          "text": [
            "Some weights of BertForTokenClassification were not initialized from the model checkpoint at bert-base-uncased and are newly initialized: ['classifier.weight', 'classifier.bias']\n",
            "You should probably TRAIN this model on a down-stream task to be able to use it for predictions and inference.\n",
            "Truncation was not explicitly activated but `max_length` is provided a specific value, please use `truncation=True` to explicitly truncate examples to max length. Defaulting to 'longest_first' truncation strategy. If you encode pairs of sequences (GLUE-style) with the tokenizer you can select this strategy more precisely by providing a specific strategy to `truncation`.\n"
          ]
        }
      ],
      "source": [
        "import torch\n",
        "from transformers import BertTokenizerFast, BertForTokenClassification\n",
        "from torch.utils.data import Dataset, DataLoader, RandomSampler\n",
        "from torch.optim import AdamW\n",
        "from tqdm import tqdm\n",
        "def get_label(offset, labels):\n",
        "    if offset[0] == 0 and offset[1] == 0:\n",
        "        return 'O'\n",
        "    for label in labels:\n",
        "        if offset[1] >= label[0] and offset[0] <= label[1]:\n",
        "            return label[2]\n",
        "    return 'O'\n",
        "def process_resume(data, tokenizer, tag2idx, max_len, is_test=False):\n",
        "    tok = tokenizer.encode_plus(\n",
        "        data[0], max_length=max_len, return_offsets_mapping=True)\n",
        "    curr_sent = {'orig_labels': [], 'labels': []}\n",
        "\n",
        "    padding_length = max_len - len(tok['input_ids'])\n",
        "\n",
        "    if not is_test:\n",
        "        labels = data[1]['entities']\n",
        "        labels.reverse()\n",
        "        for off in tok['offset_mapping']:\n",
        "            label = get_label(off, labels)\n",
        "            curr_sent['orig_labels'].append(label)\n",
        "            curr_sent['labels'].append(tag2idx[label])\n",
        "        curr_sent['labels'] = curr_sent['labels'] + ([0] * padding_length)\n",
        "\n",
        "    curr_sent['input_ids'] = tok['input_ids'] + ([0] * padding_length)\n",
        "    curr_sent['token_type_ids'] = tok['token_type_ids'] + \\\n",
        "        ([0] * padding_length)\n",
        "    curr_sent['attention_mask'] = tok['attention_mask'] + \\\n",
        "        ([0] * padding_length)\n",
        "    return curr_sent\n",
        "\n",
        "\n",
        "\n",
        "MODEL_NAME = 'bert-base-uncased'\n",
        "TOKENIZER = BertTokenizerFast.from_pretrained(MODEL_NAME, lowercase=True)\n",
        "model = BertForTokenClassification.from_pretrained(MODEL_NAME, num_labels=len(tag2idx))\n",
        "\n",
        "# Create ResumeDataset instance\n",
        "train_d = ResumeDataset(resume_data, TOKENIZER, tag2idx, max_len=500)\n",
        "\n",
        "# Define the optimizer and learning rate\n",
        "optimizer = AdamW(model.parameters(), lr=1e-5)\n",
        "\n",
        "# Move the model to the GPU if available\n",
        "device = torch.device(\"cuda\" if torch.cuda.is_available() else \"cpu\")\n",
        "model.to(device)\n",
        "epochs = 20\n",
        "train_sampler = RandomSampler(train_d)\n",
        "train_dataloader = DataLoader(train_d, sampler=train_sampler, batch_size=1)\n",
        "# Iterate through the data loader and print the contents of each batch\n",
        "for batch in train_dataloader:\n",
        "    input_ids = batch['input_ids']\n",
        "    token_type_ids = batch['token_type_ids']\n",
        "    attention_mask = batch['attention_mask']\n",
        "    labels = batch['labels']\n",
        "    orig_labels = batch['orig_label']\n",
        "\n",
        "    # Convert input_ids back to tokens\n",
        "    tokens = TOKENIZER.convert_ids_to_tokens(input_ids[0])\n",
        "\n",
        "    # # Print the tokenized text and original labels\n",
        "    # for token, orig_label in zip(tokens, orig_labels):\n",
        "    #     print(token, \" \", orig_label)\n",
        "    # print(\"=\" * 50)\n",
        "    break\n",
        "\n"
      ]
    },
    {
      "cell_type": "code",
      "execution_count": 364,
      "metadata": {
        "colab": {
          "base_uri": "https://localhost:8080/"
        },
        "id": "GM0_VUBNSMBL",
        "outputId": "7f607a80-6f94-4b33-ba6d-d24827f836d9"
      },
      "outputs": [
        {
          "name": "stderr",
          "output_type": "stream",
          "text": [
            "Some weights of BertForTokenClassification were not initialized from the model checkpoint at bert-base-uncased and are newly initialized: ['classifier.weight', 'classifier.bias']\n",
            "You should probably TRAIN this model on a down-stream task to be able to use it for predictions and inference.\n"
          ]
        }
      ],
      "source": [
        "\n",
        "def get_label(offset, labels):\n",
        "    if not labels or offset[0]==offset[1]:\n",
        "        return 'O',(None,None)\n",
        "    for label in labels:\n",
        "        label_start = label['points'][0]['start']\n",
        "        label_end = label['points'][0]['end']\n",
        "        if label_start <= offset[0] and offset[1] <= label_end:\n",
        "            return label['label'][0],(label_start,label_end)\n",
        "    return 'O',(None,None)\n",
        "\n",
        "\n",
        "tags_vals = [\"O\",\"Date\",\"Languages\",\"Projects\",\"Hobbies\",\"Nationality\",\"Date of birth\",\"Objective\",\"LinkedIn\",\"Career Goals\",\"Profile\",\"Greeting\",\"Greeting\",\"Company Name\",\"Job Title\",\"Phone No.\", \"Website\",\"Name\",\"Address\",\"Email\",\"Companies worked at\", \"Phone No\",\"Skills\", \"Email Address\",\n",
        "             \"Location\",\"Degree\",\"Experience\",\"College Name\",\"Graduation Year\",\"Education\",\"Designation\",\"Years of Experience\"]\n",
        "\n",
        "tag2idx = {t: i for i, t in enumerate(tags_vals)}\n",
        "idx2tag = {i: t for i, t in enumerate(tags_vals)}\n",
        "import torch\n",
        "from transformers import BertTokenizerFast, BertForTokenClassification\n",
        "from torch.utils.data import Dataset, DataLoader, RandomSampler\n",
        "from torch.optim import AdamW\n",
        "from tqdm import tqdm\n",
        "def process_resume(data, tokenizer, tag2idx, max_len, is_test=False):\n",
        "    content = data[\"content\"]\n",
        "    tok = tokenizer.encode_plus(content, max_length=max_len, return_offsets_mapping=True)\n",
        "    curr_sent = {'orig_labels': [], 'labels': []}\n",
        "    padding_length = max_len - len(tok['input_ids'])\n",
        "    if not is_test:\n",
        "        labels = data[\"annotation\"]\n",
        "        # Print the tokens and corresponding offsets to check for misalignments\n",
        "        # print(\"Tokens:\", tokenizer.convert_ids_to_tokens(tok['input_ids']))\n",
        "        # print(\"Offsets:\", tok['offset_mapping'])\n",
        "\n",
        "        # print(labels)\n",
        "        for off in tok['offset_mapping']:\n",
        "            start,end=off\n",
        "            label,new_off = get_label(off, labels)\n",
        "            start,end=new_off\n",
        "            if label not in tag2idx:  # Check if label exists in tag2idx, otherwise set it to 'O'\n",
        "                label = 'O'\n",
        "            curr_sent['orig_labels'].append(label)\n",
        "            curr_sent['labels'].append(tag2idx[label])\n",
        "\n",
        "        curr_sent['labels'] = curr_sent['labels'] + ([0] * padding_length)\n",
        "\n",
        "        # Print the labels assigned to each token\n",
        "        # print(\"Token Labels:\", curr_sent['orig_labels'])\n",
        "\n",
        "    curr_sent['input_ids'] = tok['input_ids'] + ([0] * padding_length)\n",
        "    curr_sent['token_type_ids'] = tok['token_type_ids'] + ([0] * padding_length)\n",
        "    curr_sent['attention_mask'] = tok['attention_mask'] + ([0] * padding_length)\n",
        "    return curr_sent\n",
        "\n",
        "MODEL_NAME = 'bert-base-uncased'\n",
        "TOKENIZER = BertTokenizerFast.from_pretrained(MODEL_NAME, lowercase=True)\n",
        "model = BertForTokenClassification.from_pretrained(MODEL_NAME, num_labels=len(tag2idx))\n",
        "\n",
        "# Create ResumeDataset instance\n",
        "train_d = ResumeDataset(resume_data, TOKENIZER, tag2idx, max_len=128)\n",
        "\n",
        "# Define the optimizer and learning rate\n",
        "optimizer = AdamW(model.parameters(), lr=1e-5)\n",
        "\n",
        "# Move the model to the GPU if available\n",
        "device = torch.device(\"cuda\" if torch.cuda.is_available() else \"cpu\")\n",
        "model.to(device)\n",
        "epochs = 20\n",
        "train_sampler = RandomSampler(train_d)\n",
        "train_dataloader = DataLoader(train_d, sampler=train_sampler, batch_size=1)"
      ]
    },
    {
      "cell_type": "markdown",
      "metadata": {},
      "source": [
        "### Model Training"
      ]
    },
    {
      "cell_type": "code",
      "execution_count": 1,
      "metadata": {
        "colab": {
          "base_uri": "https://localhost:8080/",
          "height": 415
        },
        "id": "czFEhfUdadTh",
        "outputId": "f4a386bf-e546-4eb7-f604-57d6869807b7"
      },
      "outputs": [],
      "source": [
        "import random\n",
        "\n",
        "# Assuming 'resume_data' contains the list of resume samples\n",
        "# Split data into train and validation sets\n",
        "random.shuffle(resume_data)\n",
        "train_size = int(0.8 * len(resume_data))  # 80% for training\n",
        "train_data = resume_data[:train_size]\n",
        "val_data = resume_data[train_size:]\n",
        "\n",
        "# Create Dataset instances for train and validation\n",
        "train_dataset = ResumeDataset(train_data, TOKENIZER, tag2idx, max_len=500)\n",
        "val_dataset = ResumeDataset(val_data, TOKENIZER, tag2idx, max_len=500)\n",
        "\n",
        "# Create DataLoaders for train and validation\n",
        "train_sampler = RandomSampler(train_dataset)\n",
        "train_dataloader = DataLoader(train_dataset, sampler=train_sampler, batch_size=1)\n",
        "\n",
        "val_sampler = RandomSampler(val_dataset)\n",
        "val_dataloader = DataLoader(val_dataset, sampler=val_sampler, batch_size=1)\n",
        "\n",
        "# Initialize the optimizer\n",
        "optimizer = AdamW(model.parameters(), lr=1e-5)\n",
        "\n",
        "# Training loop\n",
        "epochs =5\n",
        "for epoch in range(epochs):\n",
        "    model.train()\n",
        "    total_loss = 0\n",
        "    total_correct_predictions = 0\n",
        "    total_predictions = 0\n",
        "\n",
        "    for batch in tqdm(train_dataloader, desc=f\"Epoch {epoch+1} - Training\"):\n",
        "        input_ids = batch['input_ids'].to(device)\n",
        "        attention_mask = batch['attention_mask'].to(device)\n",
        "        labels = batch['labels'].to(device)\n",
        "        outputs = model(input_ids=input_ids, token_type_ids=None, attention_mask=attention_mask, labels=labels)\n",
        "        loss = outputs.loss\n",
        "        total_loss += loss.item()\n",
        "\n",
        "        # Calculate accuracy for this batch\n",
        "        _, predicted_labels = torch.max(outputs.logits, dim=2)\n",
        "        correct_predictions = torch.eq(predicted_labels, labels).sum().item()\n",
        "        total_correct_predictions += correct_predictions\n",
        "        total_predictions += labels.numel()\n",
        "\n",
        "        # Backpropagation and optimization\n",
        "        loss.backward()\n",
        "        torch.nn.utils.clip_grad_norm_(model.parameters(), 1.0)\n",
        "        optimizer.step()\n",
        "        optimizer.zero_grad()\n",
        "\n",
        "    # Calculate average loss and accuracy for this epoch\n",
        "    avg_loss = total_loss / len(train_dataloader)\n",
        "    accuracy = total_correct_predictions / total_predictions\n",
        "\n",
        "    print(f\"Epoch {epoch+1} - Training Loss: {avg_loss:.4f}, Training Accuracy: {accuracy:.4f}\")\n",
        "\n",
        "    # Validation loop\n",
        "    model.eval()\n",
        "    total_val_loss = 0\n",
        "    total_val_correct_predictions = 0\n",
        "    total_val_predictions = 0\n",
        "\n",
        "    for batch in tqdm(val_dataloader, desc=f\"Epoch {epoch+1} - Validation\"):\n",
        "        with torch.no_grad():\n",
        "            input_ids = batch['input_ids'].to(device)\n",
        "            attention_mask = batch['attention_mask'].to(device)\n",
        "            labels = batch['labels'].to(device)\n",
        "            outputs = model(input_ids=input_ids, token_type_ids=None, attention_mask=attention_mask, labels=labels)\n",
        "            val_loss = outputs.loss\n",
        "            total_val_loss += val_loss.item()\n",
        "\n",
        "            # Calculate accuracy for this batch\n",
        "            _, val_predicted_labels = torch.max(outputs.logits, dim=2)\n",
        "            val_correct_predictions = torch.eq(val_predicted_labels, labels).sum().item()\n",
        "            total_val_correct_predictions += val_correct_predictions\n",
        "            total_val_predictions += labels.numel()\n",
        "\n",
        "    # Calculate average validation loss and accuracy for this epoch\n",
        "    avg_val_loss = total_val_loss / len(val_dataloader)\n",
        "    val_accuracy = total_val_correct_predictions / total_val_predictions\n",
        "\n",
        "    print(f\"Epoch {epoch+1} - Validation Loss: {avg_val_loss:.4f}, Validation Accuracy: {val_accuracy:.4f}\")\n",
        "\n",
        "# Save the trained model\n",
        "torch.save(\n",
        "    {\n",
        "        \"model_state_dict\": model.state_dict()\n",
        "    },\n",
        "    'ner_model.pth',\n",
        ")\n"
      ]
    },
    {
      "cell_type": "markdown",
      "metadata": {},
      "source": [
        "### Testing the Model on Resume text"
      ]
    },
    {
      "cell_type": "code",
      "execution_count": 255,
      "metadata": {
        "colab": {
          "base_uri": "https://localhost:8080/"
        },
        "id": "ialLp0hiMMS7",
        "outputId": "48e13dca-6b94-43a0-b952-1bdf9ee75337"
      },
      "outputs": [
        {
          "name": "stderr",
          "output_type": "stream",
          "text": [
            "Some weights of BertForTokenClassification were not initialized from the model checkpoint at bert-base-uncased and are newly initialized: ['classifier.weight', 'classifier.bias']\n",
            "You should probably TRAIN this model on a down-stream task to be able to use it for predictions and inference.\n"
          ]
        },
        {
          "data": {
            "text/plain": [
              "BertForTokenClassification(\n",
              "  (bert): BertModel(\n",
              "    (embeddings): BertEmbeddings(\n",
              "      (word_embeddings): Embedding(30522, 768, padding_idx=0)\n",
              "      (position_embeddings): Embedding(512, 768)\n",
              "      (token_type_embeddings): Embedding(2, 768)\n",
              "      (LayerNorm): LayerNorm((768,), eps=1e-12, elementwise_affine=True)\n",
              "      (dropout): Dropout(p=0.1, inplace=False)\n",
              "    )\n",
              "    (encoder): BertEncoder(\n",
              "      (layer): ModuleList(\n",
              "        (0-11): 12 x BertLayer(\n",
              "          (attention): BertAttention(\n",
              "            (self): BertSelfAttention(\n",
              "              (query): Linear(in_features=768, out_features=768, bias=True)\n",
              "              (key): Linear(in_features=768, out_features=768, bias=True)\n",
              "              (value): Linear(in_features=768, out_features=768, bias=True)\n",
              "              (dropout): Dropout(p=0.1, inplace=False)\n",
              "            )\n",
              "            (output): BertSelfOutput(\n",
              "              (dense): Linear(in_features=768, out_features=768, bias=True)\n",
              "              (LayerNorm): LayerNorm((768,), eps=1e-12, elementwise_affine=True)\n",
              "              (dropout): Dropout(p=0.1, inplace=False)\n",
              "            )\n",
              "          )\n",
              "          (intermediate): BertIntermediate(\n",
              "            (dense): Linear(in_features=768, out_features=3072, bias=True)\n",
              "            (intermediate_act_fn): GELUActivation()\n",
              "          )\n",
              "          (output): BertOutput(\n",
              "            (dense): Linear(in_features=3072, out_features=768, bias=True)\n",
              "            (LayerNorm): LayerNorm((768,), eps=1e-12, elementwise_affine=True)\n",
              "            (dropout): Dropout(p=0.1, inplace=False)\n",
              "          )\n",
              "        )\n",
              "      )\n",
              "    )\n",
              "  )\n",
              "  (dropout): Dropout(p=0.1, inplace=False)\n",
              "  (classifier): Linear(in_features=768, out_features=31, bias=True)\n",
              ")"
            ]
          },
          "execution_count": 255,
          "metadata": {},
          "output_type": "execute_result"
        }
      ],
      "source": [
        "import torch\n",
        "from transformers import BertTokenizerFast, BertForTokenClassification\n",
        "\n",
        "# Initialize the tokenizer and model\n",
        "MODEL_NAME = 'bert-base-uncased'\n",
        "TOKENIZER = BertTokenizerFast.from_pretrained(MODEL_NAME, lowercase=True)\n",
        "model = BertForTokenClassification.from_pretrained(MODEL_NAME, num_labels=len(tag2idx))\n",
        "\n",
        "# Load the trained model checkpoint\n",
        "checkpoint_path = 'ner_model.pth'\n",
        "checkpoint = torch.load(checkpoint_path, map_location=torch.device('cpu'))\n",
        "model.load_state_dict(checkpoint['model_state_dict'])\n",
        "\n",
        "# Set the model to evaluation mode\n",
        "model.eval()\n"
      ]
    },
    {
      "cell_type": "code",
      "execution_count": 256,
      "metadata": {
        "id": "fx8DXl-S-E_0"
      },
      "outputs": [],
      "source": [
        "def preprocess_single_resume(resume_content, tokenizer, max_len):\n",
        "    tok = tokenizer.encode_plus(resume_content, max_length=max_len, return_offsets_mapping=True)\n",
        "    input_ids = tok['input_ids']\n",
        "    attention_mask = tok['attention_mask']\n",
        "    token_type_ids = tok['token_type_ids']\n",
        "\n",
        "    # Padding\n",
        "    padding_length = max_len - len(input_ids)\n",
        "    input_ids += [0] * padding_length\n",
        "    attention_mask += [0] * padding_length\n",
        "    token_type_ids += [0] * padding_length\n",
        "\n",
        "    return {\n",
        "        'input_ids': torch.tensor(input_ids, dtype=torch.long).unsqueeze(0),\n",
        "        'token_type_ids': torch.tensor(token_type_ids, dtype=torch.long).unsqueeze(0),\n",
        "        'attention_mask': torch.tensor(attention_mask, dtype=torch.long).unsqueeze(0)\n",
        "    }\n"
      ]
    },
    {
      "cell_type": "code",
      "execution_count": 257,
      "metadata": {
        "id": "-7qiz8Bm-HxM"
      },
      "outputs": [],
      "source": [
        "def get_predicted_labels(model_output, idx2tag):\n",
        "    _, predicted_labels = torch.max(model_output, dim=2)\n",
        "    predicted_labels = predicted_labels.squeeze(0).tolist()\n",
        "    predicted_labels = [idx2tag[label_idx] for label_idx in predicted_labels]\n",
        "    return predicted_labels\n",
        "\n",
        "def predict_resume_labels(resume_content, model, tokenizer, idx2tag, max_len):\n",
        "    input_data = preprocess_single_resume(resume_content, tokenizer, max_len)\n",
        "    input_ids = input_data['input_ids']\n",
        "    token_type_ids = input_data['token_type_ids']\n",
        "    attention_mask = input_data['attention_mask']\n",
        "\n",
        "    with torch.no_grad():\n",
        "        model_output = model(input_ids=input_ids, token_type_ids=token_type_ids, attention_mask=attention_mask)\n",
        "\n",
        "    predicted_labels = get_predicted_labels(model_output.logits, idx2tag)\n",
        "    return predicted_labels\n"
      ]
    },
    {
      "cell_type": "code",
      "execution_count": 258,
      "metadata": {
        "colab": {
          "base_uri": "https://localhost:8080/"
        },
        "id": "SdET-OPL-UNu",
        "outputId": "4ffa133b-f82c-4e70-91b6-9b36351fff6f"
      },
      "outputs": [
        {
          "name": "stderr",
          "output_type": "stream",
          "text": [
            "Truncation was not explicitly activated but `max_length` is provided a specific value, please use `truncation=True` to explicitly truncate examples to max length. Defaulting to 'longest_first' truncation strategy. If you encode pairs of sequences (GLUE-style) with the tokenizer you can select this strategy more precisely by providing a specific strategy to `truncation`.\n"
          ]
        },
        {
          "name": "stdout",
          "output_type": "stream",
          "text": [
            "Input Data: {'input_ids': tensor([[  101, 11113, 24158,  5369,  2243,  1046,  3270,  4646,  2458,  5482,\n",
            "          1011,  9669,  5397,  8191, 14129,  1010, 12092,  1011, 10373,  2033,\n",
            "          2006,  5262,  1024,  5262,  1012,  4012,  1013,  1054,  1013, 11113,\n",
            "         24158,  5369,  2243,  1011,  1046,  3270,  1013,  2184,  2063,  2581,\n",
            "          2050,  2620, 27421,  2581, 16703,  9818, 23777,  2050,  1528,  2000,\n",
            "          2147,  2005,  2019,  3029,  2029,  3640,  2033,  1996,  4495,  2000,\n",
            "          5335,  2026,  4813,   102,     0,     0,     0,     0,     0,     0,\n",
            "             0,     0,     0,     0,     0,     0,     0,     0,     0,     0,\n",
            "             0,     0,     0,     0,     0,     0,     0,     0,     0,     0,\n",
            "             0,     0,     0,     0,     0,     0,     0,     0,     0,     0,\n",
            "             0,     0,     0,     0,     0,     0,     0,     0,     0,     0,\n",
            "             0,     0,     0,     0,     0,     0,     0,     0,     0,     0,\n",
            "             0,     0,     0,     0,     0,     0,     0,     0,     0,     0,\n",
            "             0,     0,     0,     0,     0,     0,     0,     0,     0,     0,\n",
            "             0,     0,     0,     0,     0,     0,     0,     0,     0,     0,\n",
            "             0,     0,     0,     0,     0,     0,     0,     0,     0,     0,\n",
            "             0,     0,     0,     0,     0,     0,     0,     0,     0,     0,\n",
            "             0,     0,     0,     0,     0,     0,     0,     0,     0,     0,\n",
            "             0,     0,     0,     0,     0,     0,     0,     0,     0,     0,\n",
            "             0,     0,     0,     0,     0,     0,     0,     0,     0,     0,\n",
            "             0,     0,     0,     0,     0,     0,     0,     0,     0,     0,\n",
            "             0,     0,     0,     0,     0,     0,     0,     0,     0,     0,\n",
            "             0,     0,     0,     0,     0,     0,     0,     0,     0,     0,\n",
            "             0,     0,     0,     0,     0,     0,     0,     0,     0,     0,\n",
            "             0,     0,     0,     0,     0,     0,     0,     0,     0,     0,\n",
            "             0,     0,     0,     0,     0,     0,     0,     0,     0,     0,\n",
            "             0,     0,     0,     0,     0,     0,     0,     0,     0,     0,\n",
            "             0,     0,     0,     0,     0,     0,     0,     0,     0,     0,\n",
            "             0,     0,     0,     0,     0,     0,     0,     0,     0,     0,\n",
            "             0,     0,     0,     0,     0,     0,     0,     0,     0,     0,\n",
            "             0,     0,     0,     0,     0,     0,     0,     0,     0,     0,\n",
            "             0,     0,     0,     0,     0,     0,     0,     0,     0,     0,\n",
            "             0,     0,     0,     0,     0,     0,     0,     0,     0,     0,\n",
            "             0,     0,     0,     0,     0,     0,     0,     0,     0,     0,\n",
            "             0,     0,     0,     0,     0,     0,     0,     0,     0,     0,\n",
            "             0,     0,     0,     0,     0,     0,     0,     0,     0,     0,\n",
            "             0,     0,     0,     0,     0,     0,     0,     0,     0,     0,\n",
            "             0,     0,     0,     0,     0,     0,     0,     0,     0,     0,\n",
            "             0,     0,     0,     0,     0,     0,     0,     0,     0,     0,\n",
            "             0,     0,     0,     0,     0,     0,     0,     0,     0,     0,\n",
            "             0,     0,     0,     0,     0,     0,     0,     0,     0,     0,\n",
            "             0,     0,     0,     0,     0,     0,     0,     0,     0,     0,\n",
            "             0,     0,     0,     0,     0,     0,     0,     0,     0,     0,\n",
            "             0,     0,     0,     0,     0,     0,     0,     0,     0,     0,\n",
            "             0,     0,     0,     0,     0,     0,     0,     0,     0,     0,\n",
            "             0,     0,     0,     0,     0,     0,     0,     0,     0,     0,\n",
            "             0,     0,     0,     0,     0,     0,     0,     0,     0,     0,\n",
            "             0,     0,     0,     0,     0,     0,     0,     0,     0,     0,\n",
            "             0,     0,     0,     0,     0,     0,     0,     0,     0,     0,\n",
            "             0,     0,     0,     0,     0,     0,     0,     0,     0,     0]]), 'token_type_ids': tensor([[0, 0, 0, 0, 0, 0, 0, 0, 0, 0, 0, 0, 0, 0, 0, 0, 0, 0, 0, 0, 0, 0, 0, 0,\n",
            "         0, 0, 0, 0, 0, 0, 0, 0, 0, 0, 0, 0, 0, 0, 0, 0, 0, 0, 0, 0, 0, 0, 0, 0,\n",
            "         0, 0, 0, 0, 0, 0, 0, 0, 0, 0, 0, 0, 0, 0, 0, 0, 0, 0, 0, 0, 0, 0, 0, 0,\n",
            "         0, 0, 0, 0, 0, 0, 0, 0, 0, 0, 0, 0, 0, 0, 0, 0, 0, 0, 0, 0, 0, 0, 0, 0,\n",
            "         0, 0, 0, 0, 0, 0, 0, 0, 0, 0, 0, 0, 0, 0, 0, 0, 0, 0, 0, 0, 0, 0, 0, 0,\n",
            "         0, 0, 0, 0, 0, 0, 0, 0, 0, 0, 0, 0, 0, 0, 0, 0, 0, 0, 0, 0, 0, 0, 0, 0,\n",
            "         0, 0, 0, 0, 0, 0, 0, 0, 0, 0, 0, 0, 0, 0, 0, 0, 0, 0, 0, 0, 0, 0, 0, 0,\n",
            "         0, 0, 0, 0, 0, 0, 0, 0, 0, 0, 0, 0, 0, 0, 0, 0, 0, 0, 0, 0, 0, 0, 0, 0,\n",
            "         0, 0, 0, 0, 0, 0, 0, 0, 0, 0, 0, 0, 0, 0, 0, 0, 0, 0, 0, 0, 0, 0, 0, 0,\n",
            "         0, 0, 0, 0, 0, 0, 0, 0, 0, 0, 0, 0, 0, 0, 0, 0, 0, 0, 0, 0, 0, 0, 0, 0,\n",
            "         0, 0, 0, 0, 0, 0, 0, 0, 0, 0, 0, 0, 0, 0, 0, 0, 0, 0, 0, 0, 0, 0, 0, 0,\n",
            "         0, 0, 0, 0, 0, 0, 0, 0, 0, 0, 0, 0, 0, 0, 0, 0, 0, 0, 0, 0, 0, 0, 0, 0,\n",
            "         0, 0, 0, 0, 0, 0, 0, 0, 0, 0, 0, 0, 0, 0, 0, 0, 0, 0, 0, 0, 0, 0, 0, 0,\n",
            "         0, 0, 0, 0, 0, 0, 0, 0, 0, 0, 0, 0, 0, 0, 0, 0, 0, 0, 0, 0, 0, 0, 0, 0,\n",
            "         0, 0, 0, 0, 0, 0, 0, 0, 0, 0, 0, 0, 0, 0, 0, 0, 0, 0, 0, 0, 0, 0, 0, 0,\n",
            "         0, 0, 0, 0, 0, 0, 0, 0, 0, 0, 0, 0, 0, 0, 0, 0, 0, 0, 0, 0, 0, 0, 0, 0,\n",
            "         0, 0, 0, 0, 0, 0, 0, 0, 0, 0, 0, 0, 0, 0, 0, 0, 0, 0, 0, 0, 0, 0, 0, 0,\n",
            "         0, 0, 0, 0, 0, 0, 0, 0, 0, 0, 0, 0, 0, 0, 0, 0, 0, 0, 0, 0, 0, 0, 0, 0,\n",
            "         0, 0, 0, 0, 0, 0, 0, 0, 0, 0, 0, 0, 0, 0, 0, 0, 0, 0, 0, 0, 0, 0, 0, 0,\n",
            "         0, 0, 0, 0, 0, 0, 0, 0, 0, 0, 0, 0, 0, 0, 0, 0, 0, 0, 0, 0, 0, 0, 0, 0,\n",
            "         0, 0, 0, 0, 0, 0, 0, 0, 0, 0, 0, 0, 0, 0, 0, 0, 0, 0, 0, 0]]), 'attention_mask': tensor([[1, 1, 1, 1, 1, 1, 1, 1, 1, 1, 1, 1, 1, 1, 1, 1, 1, 1, 1, 1, 1, 1, 1, 1,\n",
            "         1, 1, 1, 1, 1, 1, 1, 1, 1, 1, 1, 1, 1, 1, 1, 1, 1, 1, 1, 1, 1, 1, 1, 1,\n",
            "         1, 1, 1, 1, 1, 1, 1, 1, 1, 1, 1, 1, 1, 1, 1, 1, 0, 0, 0, 0, 0, 0, 0, 0,\n",
            "         0, 0, 0, 0, 0, 0, 0, 0, 0, 0, 0, 0, 0, 0, 0, 0, 0, 0, 0, 0, 0, 0, 0, 0,\n",
            "         0, 0, 0, 0, 0, 0, 0, 0, 0, 0, 0, 0, 0, 0, 0, 0, 0, 0, 0, 0, 0, 0, 0, 0,\n",
            "         0, 0, 0, 0, 0, 0, 0, 0, 0, 0, 0, 0, 0, 0, 0, 0, 0, 0, 0, 0, 0, 0, 0, 0,\n",
            "         0, 0, 0, 0, 0, 0, 0, 0, 0, 0, 0, 0, 0, 0, 0, 0, 0, 0, 0, 0, 0, 0, 0, 0,\n",
            "         0, 0, 0, 0, 0, 0, 0, 0, 0, 0, 0, 0, 0, 0, 0, 0, 0, 0, 0, 0, 0, 0, 0, 0,\n",
            "         0, 0, 0, 0, 0, 0, 0, 0, 0, 0, 0, 0, 0, 0, 0, 0, 0, 0, 0, 0, 0, 0, 0, 0,\n",
            "         0, 0, 0, 0, 0, 0, 0, 0, 0, 0, 0, 0, 0, 0, 0, 0, 0, 0, 0, 0, 0, 0, 0, 0,\n",
            "         0, 0, 0, 0, 0, 0, 0, 0, 0, 0, 0, 0, 0, 0, 0, 0, 0, 0, 0, 0, 0, 0, 0, 0,\n",
            "         0, 0, 0, 0, 0, 0, 0, 0, 0, 0, 0, 0, 0, 0, 0, 0, 0, 0, 0, 0, 0, 0, 0, 0,\n",
            "         0, 0, 0, 0, 0, 0, 0, 0, 0, 0, 0, 0, 0, 0, 0, 0, 0, 0, 0, 0, 0, 0, 0, 0,\n",
            "         0, 0, 0, 0, 0, 0, 0, 0, 0, 0, 0, 0, 0, 0, 0, 0, 0, 0, 0, 0, 0, 0, 0, 0,\n",
            "         0, 0, 0, 0, 0, 0, 0, 0, 0, 0, 0, 0, 0, 0, 0, 0, 0, 0, 0, 0, 0, 0, 0, 0,\n",
            "         0, 0, 0, 0, 0, 0, 0, 0, 0, 0, 0, 0, 0, 0, 0, 0, 0, 0, 0, 0, 0, 0, 0, 0,\n",
            "         0, 0, 0, 0, 0, 0, 0, 0, 0, 0, 0, 0, 0, 0, 0, 0, 0, 0, 0, 0, 0, 0, 0, 0,\n",
            "         0, 0, 0, 0, 0, 0, 0, 0, 0, 0, 0, 0, 0, 0, 0, 0, 0, 0, 0, 0, 0, 0, 0, 0,\n",
            "         0, 0, 0, 0, 0, 0, 0, 0, 0, 0, 0, 0, 0, 0, 0, 0, 0, 0, 0, 0, 0, 0, 0, 0,\n",
            "         0, 0, 0, 0, 0, 0, 0, 0, 0, 0, 0, 0, 0, 0, 0, 0, 0, 0, 0, 0, 0, 0, 0, 0,\n",
            "         0, 0, 0, 0, 0, 0, 0, 0, 0, 0, 0, 0, 0, 0, 0, 0, 0, 0, 0, 0]])}\n"
          ]
        }
      ],
      "source": [
        "resume_content = \"Abhishek Jha\\nApplication Development Associate - Accenture\\n\\nBengaluru, Karnataka - Email me on Indeed: indeed.com/r/Abhishek-Jha/10e7a8cb732bc43a\\n\\n• To work for an organization which provides me the opportunity to improve my skills\"\n",
        "input_data = preprocess_single_resume(resume_content, TOKENIZER, max_len=500)\n",
        "print(\"Input Data:\", input_data)"
      ]
    },
    {
      "cell_type": "code",
      "execution_count": 273,
      "metadata": {
        "colab": {
          "base_uri": "https://localhost:8080/"
        },
        "id": "SK_Us83EULya",
        "outputId": "22dc325e-82b0-4963-a279-13848f63be5c"
      },
      "outputs": [
        {
          "name": "stderr",
          "output_type": "stream",
          "text": [
            "Truncation was not explicitly activated but `max_length` is provided a specific value, please use `truncation=True` to explicitly truncate examples to max length. Defaulting to 'longest_first' truncation strategy. If you encode pairs of sequences (GLUE-style) with the tokenizer you can select this strategy more precisely by providing a specific strategy to `truncation`.\n"
          ]
        },
        {
          "name": "stdout",
          "output_type": "stream",
          "text": [
            "AZIZ UR RAHMAN STUDENT PROFILE A Highly motivated Software Engineering student with a passion for web development and mobile app development. Skilled in HTML, CSS and little bit Java Script, currently expanding proficiency in Dart language and Flutter. Committed to delivering high - quality projects and continuously learning and adapting new technologies. CONTACT PHONE: 0318 9065233 LOCATION: Ringroad Peshawar, Pakistan EMAIL: azixkhan.55@gmail.com MOTIVATION Passionate about continuous learning. Seeking an opportunity to collaborate with professionals who can inspire and mentor me, while bringing my own skills to contribute to your teams achievements. EDUCATION City University 2021 - 2025 Studying Software Engineering (In Progress) from city university of science and information technology. PROJECTS AND PORTFOLIO Pharmacy Management System Basic Website: Developed a basic website for a pharmacy management system. Utilized HTML, CSS, and JavaScript to create an interactive user interface. Restaurant Management System: Developed a web -based system for restaurant management. Implemented features such as menu management, order processing, and reservation tracking. Utilized HTML, CSS, JavaScript, and backend technologies for data management. Various Blogs: Created and maintained different blogs using Flask and Python. Wrote articles on technology, software development, and personal experiences. SKILLS 8045807080In ProgressIn Progress 0.00 25.00 50.00 75.00 100.00CSSJava ScriptPythonFlaskHTMLDartFlutter\",\n",
            "\n",
            "['[CLS]', 'aziz', 'ur', 'rahman', 'student', 'profile', 'a', 'highly', 'motivated', 'software', 'engineering', 'student', 'with', 'a', 'passion', 'for', 'web', 'development', 'and', 'mobile', 'app', 'development', '.', 'skilled', 'in', 'html', ',', 'cs', '##s', 'and', 'little', 'bit', 'java', 'script', ',', 'currently', 'expanding', 'proficiency', 'in', 'dart', 'language', 'and', 'flutter', '.', 'committed', 'to', 'delivering', 'high', '-', 'quality', 'projects', 'and', 'continuously', 'learning', 'and', 'adapting', 'new', 'technologies', '.', 'contact', 'phone', ':', '03', '##18', '90', '##65', '##23', '##3', 'location', ':', 'ring', '##ro', '##ad', 'peshawar', ',', 'pakistan', 'email', ':', 'az', '##ix', '##khan', '.', '55', '@', 'gma', '##il', '.', 'com', 'motivation', 'passionate', 'about', 'continuous', 'learning', '.', 'seeking', 'an', 'opportunity', 'to', 'collaborate', 'with', 'professionals', 'who', 'can', 'inspire', 'and', 'mentor', 'me', ',', 'while', 'bringing', 'my', 'own', 'skills', 'to', 'contribute', 'to', 'your', 'teams', 'achievements', '.', 'education', 'city', 'university', '2021', '-', '202', '##5', 'studying', 'software', 'engineering', '(', 'in', 'progress', ')', 'from', 'city', 'university', 'of', 'science', 'and', 'information', 'technology', '.', 'projects', 'and', 'portfolio', 'pharmacy', 'management', 'system', 'basic', 'website', ':', 'developed', 'a', 'basic', 'website', 'for', 'a', 'pharmacy', 'management', 'system', '.', 'utilized', 'html', ',', 'cs', '##s', ',', 'and', 'java', '##script', 'to', 'create', 'an', 'interactive', 'user', 'interface', '.', 'restaurant', 'management', 'system', ':', 'developed', 'a', 'web', '-', 'based', 'system', 'for', 'restaurant', 'management', '.', 'implemented', 'features', 'such', 'as', 'menu', 'management', ',', 'order', 'processing', ',', 'and', 'reservation', 'tracking', '.', 'utilized', 'html', ',', 'cs', '##s', ',', 'java', '##script', ',', 'and', 'back', '##end', 'technologies', 'for', 'data', 'management', '.', 'various', 'blogs', ':', 'created', 'and', 'maintained', 'different', 'blogs', 'using', 'fl', '##ask', 'and', 'python', '.', 'wrote', 'articles', 'on', 'technology', ',', 'software', 'development', ',', 'and', 'personal', 'experiences', '.', 'skills', '80', '##45', '##80', '##70', '##80', '##in', 'progress', '##in', 'progress', '0', '.', '00', '25', '.', '00', '50', '.', '00', '75', '.', '00', '100', '.', '00', '##cs', '##s', '##ja', '##va', 'script', '##py', '##th', '##on', '##fl', '##ask', '##ht', '##ml', '##dar', '##tf', '##lu', '##tter', '\"', ',', '[SEP]']\n"
          ]
        }
      ],
      "source": [
        "from transformers import BertTokenizerFast\n",
        "\n",
        "MODEL_NAME = 'bert-base-uncased'\n",
        "TOKENIZER = BertTokenizerFast.from_pretrained(MODEL_NAME, lowercase=True)\n",
        "\n",
        "resume_content = \"Abhishek Jha\\nApplication Development Associate - Accenture\\n\\nBengaluru, Karnataka - Email me on Indeed: indeed.com/r/Abhishek-Jha/10e7a8cb732bc43a\\n\\n• To work for an organization which provides me the opportunity to improve my skills\"\n",
        "resume_content=\"\"\"AYAZ MEHMOOD Rawalpindi , Pakistan  92-321-9872721  ayazmehmood550gmail.com  https://www.linkedin.com/in/ayaz -mehmood -5b941219a/  https://github.com/ayazmhmd Experience d AI E ngineer with machine learning , Statistical, Analytical and programming skills seeking employment with an innovative Data Science/AI firm to expand my skill set and software programming proficiency. PROFESSIONAL EXPERIENCE Medical Imaging and Diagnostic Lab (NCAI) Oct 2022  Present Research Assistant  Working on different project s of Medical Imaging (Breast Cancer, TB, Brain tumor)  Devised AI based solution (Dicom Viewer) as a assistive tools for Doctors  Tried Different AI Models on Med ical image classification, detection and segmentation.  Organized different Event rel ated to Arti ficial Intelligence including Seminars, Workshop and presentation. National Center for Cyber Security April 2022 Oct 2022 AI Research Scholar  Designed and tested new AI systems for Industrial applications.  Coordinated with other engineers and programmers to meet deadlines of our weekly work progress.  Devised AI based System for real time attendance mark using face recognition.  Assisted MS\n",
        "research scholars in their Research projects. Freelancing 2020  Present Data Analyst and ML Engineer  Collaborated with my clients to design, create, test and deploy Artificial Intelligence Models  Worked alongside a team of AI to develop, test and deploy a model that effectively detect fire from a video stream in real time and send notif ication message with location and exact time .  Worked on other specifically computer vision projects related to image classification and detection and APIs creation.  Successfully deployed multiple Artificial Intelligence projects on Hureko and AWS Cloud EDUCATION University of Engineering and Technology Peshawar , Pakistan 2018-2022 Bachelor of Computer Systems Engineering Major: Computer CGPA (3.74 ) Thesis : Anomaly Detection from Video Streams Using Deep Learning techniques . PROJECTS ML and DL Projects:  Completed regression, classification, clustering and time series projects in Python using Scikit - Learn. Codes are available here on the GitHub.  Implemented CNN on images and videos. Good knowledge of Image segmentation, classification and Detection. Experience in NLP for sentiment analysis and text classification . All c odes are available here on the GitHub.  Experience in Kaggle competition in Natural language processing and forecasting. Anomaly Detection from Video Streams Using Deep Learning techni ques (FYP):  Set up a system that was efficient enough to Detect and classify unusual ac tivities from video streams.  Worked on 3 Anomalous categories (Fighting, Shoplifting and Explosion) and achieved accuracy of 82 .  Developed a flutter application as a use case of our project that uses real time camera for video streams  Served the flask API on Hureko Server. Details o f the project are available here Arrhythmia Detection Using Deep Learning Techniques (Research Project):  Classified ECG signal using a Conventional Neural Netw ork (CNN)  LSTM.  Submitted the paper to IEEE Transactions on Biomedical circuits and systems. Codes are available here on the GitHub. Multimedia Analysis of Disaster -Related Social Media Data (Research Project):  In the fi rst part, we Classified the twit ter data as disaster or not from the data shared by the organization  In the second part, we specified the location using named entity recognition  We have used different modeling technique as the project has two parts. We explored the state-of-the-art model for this and achieved F1 score of 92 .  Presented our paper in mediaeval competition. Data Analysis:  Conducted exploratory data analysis (EDA) on various datasets using Python and data visualization libraries such as Matplotlib, Seaborn, and Plotly.  Utilized statistical methods and visualization techniques to identify patterns, trends, and outliers in the data, leading to insights that informed business decisions.  Developed custom scripts and tools to automate data cle aning and preprocessing tasks, improving the efficiency and accuracy of the EDA process.  Worked on PowerBI dashboard for practice and for one of my clients.  Codes are available in my GitHub repositories link. Early Detection of Alzheimer's disease using vision Transformer :  Developed a custom vision transformer Model for Alzheimers disease classification.  Fine -tuned the model and achieved accuracy of 9 6. Code s are available in this link.  Submitted a paper to a journal by adding some computer vision Model results Face  Eye tracking using OpenCV :  Developed a model that detect and track a person face and eyes continuously by laptop Camera.  The Model create a buzzer sound when no face is detected. Code s are available in this link. Yolov5 and Yolov8 Object detection Projects:  Developed and trained multiple YOLOv8 models for object detection, including gun detection, pill detection, car detection, and football player detection.  Utilized various dee p learning techniques to preprocess and augment the training data, resulting in highly accurate and robust object detection models.  Created a Flask API to deploy the object detection models and enable real -time detection of objects in images and videos.  Conducted thorough testing and validation of the object detection models, including precision and recall analysis, to ensure high performance and reliability in different environments and scenarios.  Developed custom data annotation tools and pipelines to str eamline the data labeling and preprocessing process, improving the efficiency and quality of the training data  Codes are available in my\n",
        "GitHub repositories link. Smart -attendance system using face recognition:  Designed and tested a system that recognizes faces and mark attendance.  System saved the recognized faces in an excel sheet. Code s are available in this link. Chatbot in python:  Developed a chatbot using Python and utilized a Kaggle dataset to train the natural language processing model.  Conducted thorough data analysis on Kaggle datasets to improve the chatbot's accuracy, leading to a 50 reduction in support inquiries. Model APIs and Deployment:  Served Flask ML and DL API s on Hureko Server .  Created Flask API for Multiple projects of cla ssification, segmentation and detection.  Integrated different models into flutter app by using tflite and also connected with Flask API.  Deployed of ML Model on AWS Server (Amazon Sage Maker ). Web Scrapping:  Scraped different websites (Twitter\n",
        "mostly) using Scrapy, beautiful soup, and Parse hub .  Scraped product data across different domains for analysis from online shopping websites .\n",
        "Database Design :  Designed and developed an online resume builder using PHP and SQL database .  Product management system for medical store for a client using Laravel and SQL database .  Flask Web projects and deployment of ML and DL model. Semester Projects:  Space shooter game in python (4 Level).  TIC TAC TOE game and Console Based online delivery system in C.  Automatic Street Light using PIR Sensor, Fire Alarm, Firefighting Robot.  Hotel, School and Hospital Manageme nt System using Linked list in data structure .  Created custom Unix C Shell and also Interprocess communication using messa ge Queue Method, named pipe and Shared Memory in Unix C. CERTIFICATIONS  Programming for Everybody (Getting Started with Python) - Coursera  Introduction to Artificial Intelligence  Coursera  Neural Network  Deep learning  Coursera  Introduction to Data Science in Python\n",
        "Coursera  Applied Machine Learning in Python  Coursera  Programming Basics Great Learning  Introduction to Machine Learning -Great Learning  Python for Machine Learning - Great Learning  Deep Learning, Computer vision - Great Learning SKILLS  Technical Skills Python, Data analytics, Statistical analysis, Machine Learning, Deep Learning, Comp uter vision, NLP, YOLO, Web scraping , Model Deployment, Model integration, Hureko, Amazon SageMaker , AWS, Flask, PowerBI, Excel, SQL Database.  Soft Skills Self-Learning, Problem Solving, Critical thinking , Interpersonal Skill\n",
        ", Teamwork, Leadership, Communication.\"\"\"\n",
        "resume_content=\"\"\"AZIZ UR RAHMAN STUDENT PROFILE A Highly motivated Software Engineering student with a passion for web development and mobile app development. Skilled in HTML, CSS and little bit Java Script, currently expanding proficiency in Dart language and Flutter. Committed to delivering high - quality projects and continuously learning and adapting new technologies. CONTACT PHONE: 0318 9065233 LOCATION: Ringroad Peshawar, Pakistan EMAIL: azixkhan.55@gmail.com MOTIVATION Passionate about continuous learning. Seeking an opportunity to collaborate with professionals who can inspire and mentor me, while bringing my own skills to contribute to your teams achievements. EDUCATION City University 2021 - 2025 Studying Software Engineering (In Progress) from city university of science and information technology. PROJECTS AND PORTFOLIO Pharmacy Management System Basic Website: Developed a basic website for a pharmacy management system. Utilized HTML, CSS, and JavaScript to create an interactive user interface. Restaurant Management System: Developed a web -based system for restaurant management. Implemented features such as menu management, order processing, and reservation tracking. Utilized HTML, CSS, JavaScript, and backend technologies for data management. Various Blogs: Created and maintained different blogs using Flask and Python. Wrote articles on technology, software development, and personal experiences. SKILLS 8045807080In ProgressIn Progress 0.00 25.00 50.00 75.00 100.00CSSJava ScriptPythonFlaskHTMLDartFlutter\",\n",
        "\"\"\"\n",
        "# Tokenize the resume content using the provided tokenizer\n",
        "tokenized_resume = TOKENIZER.encode_plus(resume_content, max_length=500, return_offsets_mapping=True)\n",
        "\n",
        "# Convert token IDs to tokens\n",
        "resume_tokens = TOKENIZER.convert_ids_to_tokens(tokenized_resume['input_ids'])\n",
        "print(resume_content)\n",
        "# Display the tokens\n",
        "print(resume_tokens)\n"
      ]
    },
    {
      "cell_type": "code",
      "execution_count": 274,
      "metadata": {
        "colab": {
          "base_uri": "https://localhost:8080/"
        },
        "id": "dSzIYsfbUXHJ",
        "outputId": "8fe6fe4c-504e-4e94-fadc-83e8e1a99ebc"
      },
      "outputs": [
        {
          "name": "stdout",
          "output_type": "stream",
          "text": [
            "293\n"
          ]
        }
      ],
      "source": [
        "print(len(resume_tokens))"
      ]
    },
    {
      "cell_type": "code",
      "execution_count": 275,
      "metadata": {
        "colab": {
          "base_uri": "https://localhost:8080/"
        },
        "id": "2aEhvlTu_31A",
        "outputId": "a579d4f0-768f-4683-bbae-c84483f687eb"
      },
      "outputs": [
        {
          "name": "stdout",
          "output_type": "stream",
          "text": [
            "Predicted Labels: ['O', 'Name', 'Name', 'Name', 'O', 'O', 'O', 'O', 'O', 'O', 'O', 'O', 'O', 'O', 'O', 'O', 'O', 'O', 'O', 'O', 'O', 'O', 'O', 'O', 'O', 'O', 'O', 'O', 'O', 'O', 'O', 'O', 'O', 'O', 'O', 'O', 'O', 'O', 'O', 'O', 'O', 'O', 'O', 'O', 'O', 'O', 'O', 'O', 'O', 'O', 'O', 'O', 'O', 'O', 'O', 'O', 'O', 'O', 'O', 'O', 'O', 'O', 'Phone No', 'Phone No', 'Phone No', 'Phone No', 'Phone No', 'Phone No', 'O', 'O', 'Address', 'Address', 'Address', 'Address', 'Address', 'Address', 'O', 'O', 'Email', 'Email', 'Email', 'Email', 'Email', 'Email', 'Email', 'Email', 'Email', 'Email', 'O', 'O', 'O', 'O', 'O', 'O', 'O', 'O', 'O', 'O', 'O', 'O', 'O', 'O', 'O', 'O', 'O', 'O', 'O', 'O', 'O', 'O', 'O', 'O', 'O', 'O', 'O', 'O', 'O', 'O', 'O', 'O', 'O', 'O', 'O', 'O', 'O', 'O', 'O', 'O', 'O', 'O', 'O', 'O', 'O', 'O', 'O', 'O', 'O', 'O', 'O', 'O', 'O', 'O', 'O', 'O', 'O', 'O', 'O', 'O', 'O', 'O', 'O', 'O', 'O', 'O', 'O', 'O', 'O', 'O', 'O', 'O', 'O', 'O', 'O', 'O', 'O', 'O', 'O', 'O', 'O', 'O', 'O', 'O', 'O', 'O', 'O', 'O', 'O', 'O', 'O', 'O', 'O', 'O', 'O', 'O', 'O', 'O', 'O', 'O', 'O', 'O', 'O', 'O', 'O', 'O', 'O', 'O', 'O', 'O', 'O', 'O', 'O', 'O', 'O', 'O', 'O', 'O', 'O', 'O', 'O', 'O', 'O', 'O', 'O', 'O', 'O', 'O', 'O', 'O', 'O', 'O', 'O', 'O', 'O', 'O', 'O', 'O', 'O', 'O', 'O', 'O', 'O', 'O', 'O', 'O', 'O', 'O', 'O', 'O', 'O', 'O', 'O', 'O', 'O', 'O', 'O', 'O', 'O', 'O', 'O', 'O', 'O', 'O', 'O', 'O', 'O', 'O', 'O', 'O', 'O', 'O', 'O', 'O', 'O', 'O', 'O', 'O', 'O', 'O', 'O', 'O', 'O', 'O', 'O', 'O', 'O', 'O', 'O', 'O', 'O', 'O', 'O', 'O', 'O', 'O', 'O', 'O', 'O', 'O', 'O', 'O', 'O', 'O', 'O', 'O', 'O', 'O', 'O', 'O', 'O', 'O', 'O', 'O', 'O', 'O', 'O', 'O', 'O', 'O', 'O', 'O', 'O', 'O', 'O', 'O', 'O', 'O', 'O', 'O', 'O', 'O', 'O', 'O', 'O', 'O', 'O', 'O', 'O', 'O', 'O', 'O', 'O', 'O', 'O', 'O', 'O', 'O', 'O', 'O', 'O', 'O', 'O', 'O', 'O', 'O', 'O', 'O', 'O', 'O', 'O', 'O', 'O', 'O', 'O', 'O', 'O', 'O', 'O', 'O', 'O', 'O', 'O', 'O', 'O', 'O', 'O', 'O', 'O', 'O', 'O', 'O', 'O', 'O', 'O', 'O', 'O', 'O', 'O', 'O', 'O', 'O', 'O', 'O', 'O', 'O', 'O', 'O', 'O', 'O', 'O', 'O', 'O', 'O', 'O', 'O', 'O', 'O', 'O', 'O', 'O', 'O', 'O', 'O', 'O', 'O', 'O', 'O', 'O', 'O', 'O', 'O', 'O', 'O', 'O', 'O', 'O', 'O', 'O', 'O', 'O', 'O', 'O', 'O', 'O', 'O', 'O', 'O', 'O', 'O', 'O', 'O', 'O', 'O', 'O', 'O', 'O', 'O', 'O', 'O', 'O', 'O', 'O', 'O', 'O', 'O', 'O', 'O', 'O', 'O', 'O', 'O', 'O', 'O', 'O', 'O', 'O', 'O', 'O', 'O', 'O', 'O', 'O', 'O', 'O', 'O', 'O', 'O', 'O', 'O', 'O', 'O', 'O', 'O', 'O', 'O', 'O', 'O', 'O', 'O', 'O', 'O', 'O', 'O', 'O', 'O', 'O', 'O', 'O', 'O', 'O', 'O', 'O', 'O', 'O', 'O', 'O', 'O', 'O', 'O', 'O', 'O']\n"
          ]
        }
      ],
      "source": [
        "predicted_labels = predict_resume_labels(resume_content, model, TOKENIZER, idx2tag, max_len=500)\n",
        "print(\"Predicted Labels:\", predicted_labels)\n"
      ]
    },
    {
      "cell_type": "markdown",
      "metadata": {},
      "source": [
        "### Result"
      ]
    },
    {
      "cell_type": "code",
      "execution_count": 276,
      "metadata": {
        "colab": {
          "base_uri": "https://localhost:8080/"
        },
        "id": "DEC4eBgyQNFl",
        "outputId": "f86522cf-5c81-4045-b5b8-d7247e7ef3b9"
      },
      "outputs": [
        {
          "name": "stdout",
          "output_type": "stream",
          "text": [
            "Entity Type: Name, Text: aziz ur rahman\n",
            "Entity Type: Phone No, Text: 03 ##18 90 ##65 ##23 ##3\n",
            "Entity Type: Address, Text: ring ##ro ##ad peshawar , pakistan\n",
            "Entity Type: Email, Text: az ##ix ##khan . 55 @ gma ##il . com\n"
          ]
        }
      ],
      "source": [
        "# Define reverse mapping for integer labels to tag names\n",
        "idx2tag = {i: t for i, t in enumerate(tags_vals)}\n",
        "\n",
        "# Initialize variables to store entity spans and information\n",
        "entities = []\n",
        "current_entity = None\n",
        "start_position = None\n",
        "\n",
        "# Loop through the predicted labels to identify entity spans\n",
        "for idx, label in enumerate(predicted_labels):\n",
        "    if label == \"O\":\n",
        "        # If it's an \"O\" label and there's a current entity, save it\n",
        "        if current_entity is not None:\n",
        "            entities.append((current_entity, start_position, idx - 1))\n",
        "            current_entity = None\n",
        "            start_position = None\n",
        "    else:\n",
        "        # Beginning of a new entity or continuation of the current entity\n",
        "        if current_entity is not None and label == current_entity:\n",
        "            continue  # Continue with the current entity type\n",
        "        elif current_entity is not None:\n",
        "            entities.append((current_entity, start_position, idx - 1))\n",
        "        current_entity = label\n",
        "        start_position = idx\n",
        "\n",
        "# Check if there's an entity at the end of the sequence\n",
        "if current_entity is not None:\n",
        "    entities.append((current_entity, start_position, len(predicted_labels) - 1))\n",
        "\n",
        "# Extract and display entity information\n",
        "for entity, start, end in entities:\n",
        "    entity_text = \" \".join(resume_tokens[start:end + 1])\n",
        "    print(f\"Entity Type: {entity}, Text: {entity_text}\")\n"
      ]
    },
    {
      "cell_type": "code",
      "execution_count": 277,
      "metadata": {
        "colab": {
          "base_uri": "https://localhost:8080/"
        },
        "id": "p0-MhoJ0WBSA",
        "outputId": "d539faa3-539c-4bae-d770-88120c418506"
      },
      "outputs": [
        {
          "name": "stdout",
          "output_type": "stream",
          "text": [
            "Entity Type: Name, Text: aziz ur rahman\n",
            "Entity Type: Phone No, Text: 0318 9065233\n",
            "Entity Type: Address, Text: ringroad peshawar, pakistan\n",
            "Entity Type: Email, Text: azixkhan. 55 @ gmail. com\n"
          ]
        }
      ],
      "source": [
        "# Define reverse mapping for integer labels to tag names\n",
        "idx2tag = {i: t for i, t in enumerate(tags_vals)}\n",
        "\n",
        "# Initialize variables to store entity spans and information\n",
        "entities = []\n",
        "current_entity = None\n",
        "start_position = None\n",
        "\n",
        "# Loop through the predicted labels to identify entity spans\n",
        "for idx, label in enumerate(predicted_labels):\n",
        "    if label == \"O\":\n",
        "        # If it's an \"O\" label and there's a current entity, save it\n",
        "        if current_entity is not None:\n",
        "            entities.append((current_entity, start_position, idx - 1))\n",
        "            current_entity = None\n",
        "            start_position = None\n",
        "    else:\n",
        "        # Beginning of a new entity or continuation of the current entity\n",
        "        if \"-\" in label:\n",
        "            entity_type = label.split(\"-\")[1]\n",
        "        else:\n",
        "            entity_type = label\n",
        "        if current_entity is not None and entity_type == current_entity:\n",
        "            continue  # Continue with the current entity type\n",
        "        elif current_entity is not None:\n",
        "            entities.append((current_entity, start_position, idx - 1))\n",
        "        current_entity = entity_type\n",
        "        start_position = idx\n",
        "\n",
        "# Check if there's an entity at the end of the sequence\n",
        "if current_entity is not None:\n",
        "    entities.append((current_entity, start_position, len(predicted_labels) - 1))\n",
        "\n",
        "# Extract and display entity information\n",
        "for entity, start, end in entities:\n",
        "    entity_tokens = tokenized_resume['input_ids'][start:end + 1]\n",
        "    entity_text = TOKENIZER.decode(entity_tokens, skip_special_tokens=True)\n",
        "    print(f\"Entity Type: {entity}, Text: {entity_text}\")\n"
      ]
    },
    {
      "cell_type": "code",
      "execution_count": null,
      "metadata": {
        "id": "SpUNIWaAi2Fn"
      },
      "outputs": [],
      "source": []
    }
  ],
  "metadata": {
    "colab": {
      "provenance": []
    },
    "kernelspec": {
      "display_name": "Python 3",
      "name": "python3"
    },
    "language_info": {
      "codemirror_mode": {
        "name": "ipython",
        "version": 3
      },
      "file_extension": ".py",
      "mimetype": "text/x-python",
      "name": "python",
      "nbconvert_exporter": "python",
      "pygments_lexer": "ipython3",
      "version": "3.8.0"
    }
  },
  "nbformat": 4,
  "nbformat_minor": 0
}
